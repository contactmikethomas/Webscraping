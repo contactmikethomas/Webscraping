{
 "cells": [
  {
   "cell_type": "code",
   "execution_count": 7,
   "metadata": {
    "collapsed": true
   },
   "outputs": [],
   "source": [
    "import pickle\n",
    "\n",
    "ACCA_Firms = pickle.load(open('/home/de-admin/Documents/Webscraping/ACCA_Firms.p','rb'))\n",
    "\n",
    "ACCA_Websites = []\n",
    "\n",
    "for i in ACCA_Firms:\n",
    "    ACCA_Websites.append(i[6])\n",
    "\n",
    "def orderedUniques(seq, idfun=None): \n",
    "    # order preserving\n",
    "    if idfun is None:\n",
    "        def idfun(x): return x\n",
    "    seen = {}\n",
    "    result = []\n",
    "    for item in seq:\n",
    "        marker = idfun(item)\n",
    "        # in old Python versions:\n",
    "        # if seen.has_key(marker)\n",
    "        # but in new ones:\n",
    "        if marker in seen: continue\n",
    "        seen[marker] = 1\n",
    "        result.append(item)\n",
    "    return result\n",
    "\n",
    "ACCA_Websites = orderedUniques(filter(None, ACCA_Websites))"
   ]
  },
  {
   "cell_type": "code",
   "execution_count": 8,
   "metadata": {
    "collapsed": false
   },
   "outputs": [
    {
     "data": {
      "text/plain": [
       "['http://www.pdtracey.co.uk',\n",
       " 'http://www.lstaccountancy.co.uk',\n",
       " 'http://www.arrans.co.uk',\n",
       " 'http://www.moore-scarrott.co.uk',\n",
       " 'http://www.wellsassociates.com',\n",
       " 'http://www.cba-insolvency.co.uk',\n",
       " 'http://www.philipbarnes.co.uk',\n",
       " 'http://www.dre.co.uk',\n",
       " 'http://www.freemans-accountants.com',\n",
       " 'http://www.johnsonaccounts.co.uk',\n",
       " 'http://www.sjmsl.co.uk',\n",
       " 'http://www.tw-accountants.co.uk',\n",
       " 'http://www.barrons-bds.com',\n",
       " 'http://www.edwardsaccountants.co.uk',\n",
       " 'http://www.beresfordsaccountants.com',\n",
       " 'http://www.torrwaterfield.co.uk',\n",
       " 'http://www.bsplaccountants.com',\n",
       " 'http://www.abconsulting.org.uk',\n",
       " 'http://www.duntop.co.uk',\n",
       " 'http://www.godfreyholland.co.uk',\n",
       " 'http://www.wdmca.co.uk',\n",
       " 'http://www.satish.co.uk',\n",
       " 'http://www.camerons.biz',\n",
       " 'http://www.theaccountancypractice.co.uk',\n",
       " 'http://www.mcphersons.co.uk',\n",
       " 'http://www.taxtechnology.co.uk',\n",
       " 'http://www.berkeleytownsend.com',\n",
       " 'http://www.abelco.co.uk',\n",
       " 'http://www.jamesscott.com',\n",
       " 'http://www.springfields-uk.com',\n",
       " 'http://www.kingandcompanyafs.co.uk',\n",
       " 'http://www.georgehay.com',\n",
       " 'http://www.scodiedeyong.com',\n",
       " 'http://www.Finlaysonsca.co.uk',\n",
       " 'http://www.bryden-johnson.co.uk',\n",
       " 'http://www.duffandphelps.com',\n",
       " 'http://www.theaccountants4u.com',\n",
       " 'http://www.taxpractice.co.uk',\n",
       " 'http://www.lgold.co.uk',\n",
       " 'http://www.sawyerquine.co.uk',\n",
       " 'http://www.asquithand.co.uk',\n",
       " 'http://www.gmak.co.uk',\n",
       " 'http://www.odessey.uk.com',\n",
       " 'http://www.cleevewoodaccountancy.co.uk',\n",
       " 'http://www.jcca.co.uk',\n",
       " 'http://www.aghp.co.uk',\n",
       " 'http://www.boldenandlong.co.uk',\n",
       " 'http://www.mtsaccountants.com',\n",
       " 'http://www.lawrencegrant.co.uk',\n",
       " 'http://www.davisaccountants.co.uk',\n",
       " 'http://www.hewittsaccountants.co.uk',\n",
       " 'http://www.scott-wilkinson.com',\n",
       " 'http://www.bradfordhouseaccountancy.co.uk',\n",
       " 'http://www.chapmannash.co.uk',\n",
       " 'http://www.birchlittlemore.co.uk',\n",
       " 'http://www.accapita.com',\n",
       " 'http://www.morriscook.co.uk',\n",
       " 'http://www.wbdaccountants.com',\n",
       " 'http://www.rdpaccountants.co.uk',\n",
       " 'http://www.jrandco.com',\n",
       " 'http://www.thehampartnership.co.uk',\n",
       " 'http://www.mercerhole.co.uk',\n",
       " 'http://www.amacountants.co.uk',\n",
       " 'http://www.williamhinton.co.uk',\n",
       " 'http://www.burgisbullock.com',\n",
       " 'http://www.hawsons.co.uk',\n",
       " 'http://www.rogeroaten.co.uk',\n",
       " 'http://www.guildappleton.co.uk',\n",
       " 'http://www.higsons.co.uk',\n",
       " 'http://www.frpadvisory.com',\n",
       " 'http://www.jamesons.co.uk',\n",
       " 'http://www.tabsltd.com',\n",
       " 'http://www.cranfieldbusinessrecovery.co.uk',\n",
       " 'http://www.pgandco.co.uk',\n",
       " 'http://www.peekaccountants.co.uk',\n",
       " 'http://www.ghonline.co.uk',\n",
       " 'http://www.derbyshireaccounting.co.uk',\n",
       " 'http://www.mcshanewright.co.uk',\n",
       " 'http://www.michaelleigh.co.uk',\n",
       " 'http://www.carley.co.uk',\n",
       " 'http://www.shpaccountants.co.uk',\n",
       " 'http://www.ogilviemunro.co.uk',\n",
       " 'http://www.erconline.co.uk',\n",
       " 'http://www.carterandcarroll.co.uk',\n",
       " 'http://www.gcn-accounting.co.uk',\n",
       " 'http://www.blessedaccountants.com',\n",
       " 'http://www.caplanmontagu.com',\n",
       " 'http://www.ziaandco.co.uk',\n",
       " 'http://www.pro-opt.co.uk',\n",
       " 'http://www.parkerrandall.com',\n",
       " 'http://www.djh.co.uk',\n",
       " 'http://www.forresterconsulting.co.uk',\n",
       " 'http://www.marcelles.co.uk',\n",
       " 'http://www.wardgoodman.co.uk',\n",
       " 'http://www.elliottmortlockbusby.co.uk',\n",
       " 'http://www.seagoandstopps.co.uk',\n",
       " 'http://www.chc.uk.com',\n",
       " 'http://www.finnies.org.uk',\n",
       " 'http://www.rawlinsons.co.uk',\n",
       " 'http://www.ns-co.co.uk',\n",
       " 'http://www.bassetts-solutions.com',\n",
       " 'http://www.tlfirst.com']"
      ]
     },
     "execution_count": 8,
     "metadata": {},
     "output_type": "execute_result"
    }
   ],
   "source": [
    "ACCA_Websites[198:300]"
   ]
  },
  {
   "cell_type": "code",
   "execution_count": 6,
   "metadata": {
    "collapsed": false
   },
   "outputs": [
    {
     "data": {
      "text/plain": [
       "3596"
      ]
     },
     "execution_count": 6,
     "metadata": {},
     "output_type": "execute_result"
    }
   ],
   "source": [
    "len(set(ACCA_Websites))"
   ]
  },
  {
   "cell_type": "code",
   "execution_count": null,
   "metadata": {
    "collapsed": true
   },
   "outputs": [],
   "source": []
  }
 ],
 "metadata": {
  "kernelspec": {
   "display_name": "Python [default]",
   "language": "python",
   "name": "python2"
  },
  "language_info": {
   "codemirror_mode": {
    "name": "ipython",
    "version": 2
   },
   "file_extension": ".py",
   "mimetype": "text/x-python",
   "name": "python",
   "nbconvert_exporter": "python",
   "pygments_lexer": "ipython2",
   "version": "2.7.12"
  }
 },
 "nbformat": 4,
 "nbformat_minor": 2
}
