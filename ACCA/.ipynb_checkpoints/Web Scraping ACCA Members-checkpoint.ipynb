{
 "cells": [
  {
   "cell_type": "markdown",
   "metadata": {},
   "source": [
    "<h1>ACCA Webscraping Members</h1>\n",
    "\n",
    "This jupyter notebook contains the code used to webscrape ACCA Members"
   ]
  },
  {
   "cell_type": "markdown",
   "metadata": {},
   "source": [
    "<h2>Importing webscraping libraries</h2>"
   ]
  },
  {
   "cell_type": "code",
   "execution_count": 1,
   "metadata": {
    "scrolled": true
   },
   "outputs": [],
   "source": [
    "import scrapy\n",
    "from scrapy.crawler import CrawlerProcess"
   ]
  },
  {
   "cell_type": "markdown",
   "metadata": {},
   "source": [
    "<h2>Defining the Webscraping Spider</h2>\n",
    "\n",
    "This code block is defining what our web spider will do - note that it isn't running it, just defining it. See that we are extending the exsiting scrapy.Spider class rather than doing everything from scratch, so we only have minimal coding to do.\n",
    "\n",
    "We tested this code using one page:\n",
    "\n",
    "https://core.att.org.uk/Member/memberDetail?pID=6085205\n",
    "\n",
    "ACCA are helpful enough to return the entire details of a member as the search result, so parsing is the only real issue. Annoyingly there are around 200k members, so we will need 2k requests."
   ]
  },
  {
   "cell_type": "code",
   "execution_count": 2,
   "metadata": {},
   "outputs": [],
   "source": [
    "class MySpider(scrapy.Spider):\n",
    "    name = \"ACCA\"\n",
    "\n",
    "    custom_settings = {\n",
    "        'DOWNLOAD_DELAY': 60,\n",
    "    }\n",
    "    \n",
    "    def start_requests(self):\n",
    "        \n",
    "        urls = []\n",
    "                \n",
    "        for i in range(1,2):\n",
    "            \n",
    "            url = 'http://www.accaglobal.com/gb/en/member/find-an-accountant/directory-of-member/results.html?isocountry=GB&FirstName=&Surname=&Location=&inputcountrysuspended=&orgid=ACCA&orby=FNA&ipp=100&pn='+str(i)+'&hid=&requestcount='+str(i)\n",
    "            urls.append(url)\n",
    "        \n",
    "        for url in urls:\n",
    "            yield scrapy.Request(url=url, callback=self.parse)\n",
    "            \n",
    "    def parse(self, response):\n",
    "        \n",
    "        full_name = response.xpath('//tr//@id | //tr//td[@data-column=\"Full name\"]//text()').extract()\n",
    "        town = response.xpath('//tr//@id | //tr//td[@data-column=\"Town\"]//text()').extract()\n",
    "        country = response.xpath('//tr//@id | //tr//td[@data-column=\"Country\"]//text()').extract()\n",
    "        admission_year = response.xpath('//tr//@id | //tr//td[@data-column=\"Admission year\"]//text()').extract()\n",
    "        certificates = response.xpath('//tr//@id | //tr//td[@data-column=\"Practicing certificates held\"]//text()').extract()\n",
    "\n",
    "\n",
    "        firm_full_name = [' '.join(a.replace('\\n', ' ').replace('\\t', ' ').replace('\\r', ' ').split()) for a in full_name]\n",
    "        firm_town = [' '.join(a.replace('\\n', ' ').replace('\\t', ' ').replace('\\r', ' ').split()) for a in town]\n",
    "        firm_country = [' '.join(a.replace('\\n', ' ').replace('\\t', ' ').replace('\\r', ' ').split()) for a in country]\n",
    "        firm_admission_year = [' '.join(a.replace('\\n', ' ').replace('\\t', ' ').replace('\\r', ' ').split()) for a in admission_year]\n",
    "        firm_certificates = [' '.join(a.replace('\\n', ' ').replace('\\t', ' ').replace('\\r', ' ').split()) for a in certificates]\n",
    "        \n",
    "        full_fm_output.append(firm_full_name)\n",
    "        full_tn_output.append(firm_town)\n",
    "        full_co_output.append(firm_country)\n",
    "        full_yr_output.append(firm_admission_year)\n",
    "        full_ct_output.append(firm_certificates)"
   ]
  },
  {
   "cell_type": "markdown",
   "metadata": {},
   "source": [
    "<h2>Running the Webscraping</h2>\n",
    "\n",
    "Note, you can't re run the code below in a single session for one reason or another, so you need to restart the kernel between runs.\n",
    "\n",
    "This code creates a lightweight container for our webspider and then runs it - to be honest understanding this is probably optional unless it breaks."
   ]
  },
  {
   "cell_type": "code",
   "execution_count": 3,
   "metadata": {
    "scrolled": false
   },
   "outputs": [
    {
     "name": "stderr",
     "output_type": "stream",
     "text": [
      "2017-09-23 11:36:21 [scrapy.utils.log] INFO: Scrapy 1.3.3 started (bot: scrapybot)\n",
      "2017-09-23 11:36:21 [scrapy.utils.log] INFO: Overridden settings: {}\n",
      "2017-09-23 11:36:21 [scrapy.middleware] INFO: Enabled extensions:\n",
      "['scrapy.extensions.logstats.LogStats',\n",
      " 'scrapy.extensions.telnet.TelnetConsole',\n",
      " 'scrapy.extensions.corestats.CoreStats']\n",
      "2017-09-23 11:36:21 [scrapy.middleware] INFO: Enabled downloader middlewares:\n",
      "['scrapy.downloadermiddlewares.httpauth.HttpAuthMiddleware',\n",
      " 'scrapy.downloadermiddlewares.downloadtimeout.DownloadTimeoutMiddleware',\n",
      " 'scrapy.downloadermiddlewares.defaultheaders.DefaultHeadersMiddleware',\n",
      " 'scrapy.downloadermiddlewares.useragent.UserAgentMiddleware',\n",
      " 'scrapy.downloadermiddlewares.retry.RetryMiddleware',\n",
      " 'scrapy.downloadermiddlewares.redirect.MetaRefreshMiddleware',\n",
      " 'scrapy.downloadermiddlewares.httpcompression.HttpCompressionMiddleware',\n",
      " 'scrapy.downloadermiddlewares.redirect.RedirectMiddleware',\n",
      " 'scrapy.downloadermiddlewares.cookies.CookiesMiddleware',\n",
      " 'scrapy.downloadermiddlewares.stats.DownloaderStats']\n",
      "2017-09-23 11:36:21 [scrapy.middleware] INFO: Enabled spider middlewares:\n",
      "['scrapy.spidermiddlewares.httperror.HttpErrorMiddleware',\n",
      " 'scrapy.spidermiddlewares.offsite.OffsiteMiddleware',\n",
      " 'scrapy.spidermiddlewares.referer.RefererMiddleware',\n",
      " 'scrapy.spidermiddlewares.urllength.UrlLengthMiddleware',\n",
      " 'scrapy.spidermiddlewares.depth.DepthMiddleware']\n",
      "2017-09-23 11:36:21 [scrapy.middleware] INFO: Enabled item pipelines:\n",
      "[]\n",
      "2017-09-23 11:36:21 [scrapy.core.engine] INFO: Spider opened\n",
      "2017-09-23 11:36:21 [scrapy.extensions.logstats] INFO: Crawled 0 pages (at 0 pages/min), scraped 0 items (at 0 items/min)\n",
      "2017-09-23 11:36:21 [scrapy.extensions.telnet] DEBUG: Telnet console listening on 127.0.0.1:6042\n",
      "2017-09-23 11:36:23 [scrapy.core.engine] DEBUG: Crawled (200) <GET http://www.accaglobal.com/gb/en/member/find-an-accountant/directory-of-member/results.html?isocountry=GB&FirstName=&Surname=&Location=&inputcountrysuspended=&orgid=ACCA&orby=FNA&ipp=100&pn=1&hid=&requestcount=1> (referer: None)\n",
      "2017-09-23 11:36:23 [scrapy.core.engine] INFO: Closing spider (finished)\n",
      "2017-09-23 11:36:23 [scrapy.statscollectors] INFO: Dumping Scrapy stats:\n",
      "{'downloader/request_bytes': 400,\n",
      " 'downloader/request_count': 1,\n",
      " 'downloader/request_method_count/GET': 1,\n",
      " 'downloader/response_bytes': 12925,\n",
      " 'downloader/response_count': 1,\n",
      " 'downloader/response_status_count/200': 1,\n",
      " 'finish_reason': 'finished',\n",
      " 'finish_time': datetime.datetime(2017, 9, 23, 10, 36, 23, 695988),\n",
      " 'log_count/DEBUG': 2,\n",
      " 'log_count/INFO': 7,\n",
      " 'response_received_count': 1,\n",
      " 'scheduler/dequeued': 1,\n",
      " 'scheduler/dequeued/memory': 1,\n",
      " 'scheduler/enqueued': 1,\n",
      " 'scheduler/enqueued/memory': 1,\n",
      " 'start_time': datetime.datetime(2017, 9, 23, 10, 36, 21, 887131)}\n",
      "2017-09-23 11:36:23 [scrapy.core.engine] INFO: Spider closed (finished)\n"
     ]
    },
    {
     "name": "stdout",
     "output_type": "stream",
     "text": [
      "[[u'rowId-1', u'(Zheng Qinglin), Teh Keng Lin', '', u'ACCA', '', u'rowId-2', u', Ajomale, Oluwatoromo, Yemi, Isaac', '', u'ACCA', '', u'rowId-3', u'@ Lee Shiang Yee, Lee Chong Chu', '', u'FCCA', '', u'rowId-4', u'A Abdullah, Shafiullah', '', u'ACCA', '', u'rowId-5', u'A Haleem Mohamed Ashqar,', '', u'ACCA', '', u'rowId-6', u'A Halim, Mohammad H', '', u'FCCA', '', u'rowId-7', u'A K, Afzal', '', u'ACCA', '', u'rowId-8', u'A K M Koushik Ahmed,', '', u'ACCA', '', u'rowId-9', u'A K M Saidur Rahman,', '', u'ACCA', '', u'rowId-10', u'A Kanapathy, Kamaleswaran', '', u'FCCA', '', u'rowId-11', u'A L Ashif Aboobacker,', '', u'ACCA', '', u'rowId-12', u'A Madduma Patabendige, T S', '', u'ACCA', '', u'rowId-13', u'A R B Thiruchchenthooran,', '', u'ACCA', '', u'rowId-14', u'A Rahim, Abdul Azim', '', u'ACCA', '', u'rowId-15', u'A Redha Abdulla Faraj,', '', u'FCCA', '', u'rowId-16', u'A Saiful Azlin B P Salin,', '', u'FCCA', '', u'rowId-17', u'A Singh, Gurwachan Kaur', '', u'ACCA', '', u'rowId-18', u'A Singh, Sukhsharan K', '', u'FCCA', '', u'rowId-19', u'A Suriya, Eidth Sangith', '', u'ACCA', '', u'rowId-20', u'A Thanabalan, Jessey Sharmila', '', u'FCCA', '', u'rowId-21', u'A Thangarajah, Justin J', '', u'FCCA', '', u'rowId-22', u'A Y, Suhail', '', u'ACCA', '', u'rowId-23', u\"A'Court, David J\", '', u'FCCA', '', u'rowId-24', u\"A'Court, Jason\", '', u'ACCA', '', u'rowId-25', u\"A'Hara, John\", '', u'FCCA', '', u'rowId-26', u\"A'Hara, Marc John\", '', u'FCCA', '', u'rowId-27', u\"A'Monju Moavu, Kengjisu\", '', u'ACCA', '', u'rowId-28', u'A,Rahman, Dzarifah', '', u'ACCA', '', u'rowId-29', u'A-Rahman, Farha Hanina', '', u'FCCA', '', u'rowId-30', u'A. Wahab, Nor Hafizah', '', u'FCCA', '', u'rowId-31', u'A.Rahim Haider Balooshi,', '', u'ACCA', '', u'rowId-32', u'A/L Krishnan, Gobinaathan', '', u'ACCA', '', u'rowId-33', u'A/P Amar Singh, Sharanjit Kaur', '', u'ACCA', '', u'rowId-34', u'A/P Anthonysamy, Yeosicca Janey', '', u'ACCA', '', u'rowId-35', u'A/P Changara Singh, Harmeet Kaur', '', u'ACCA', '', u'rowId-36', u'A/P M.Ramanathan, Meenakshi', '', u'ACCA', '', u'rowId-37', u'A/P Periyanan, Vasantha Devi', '', u'FCCA', '', u'rowId-38', u'A/P Visvanathan, Josephine Sheela', '', u'FCCA', '', u'rowId-39', u'Aabid Nezam Khan,', '', u'ACCA', '', u'rowId-40', u'Aabida Mohmed,', '', u'ACCA', '', u'rowId-41', u'Aabobe, Kagiso', '', u'ACCA', '', u'rowId-42', u'Aaca, Caroline', '', u'ACCA', '', u'rowId-43', u'Aaina Elfera Abd Manaf,', '', u'ACCA', '', u'rowId-44', u'Aakash Bharatkumar Mehta, Aakash', '', u'ACCA', '', u'rowId-45', u'Aalijah Kamal,', '', u'ACCA', '', u'rowId-46', u'Aamdani, Shahnil', '', u'ACCA', '', u'rowId-47', u'Aamir Abbas,', '', u'FCCA', '', u'rowId-48', u'Aamir Abdul Malik,', '', u'ACCA', '', u'rowId-49', u'Aamir Abdul Sultan Haji,', '', u'ACCA', '', u'rowId-50', u'Aamir Afzal Jessani,', '', u'FCCA', '', u'rowId-51', u'Aamir Altaf Hussain,', '', u'ACCA', '', u'rowId-52', u'Aamir Amiruddin,', '', u'ACCA', '', u'rowId-53', u'Aamir Aslam Punjwani,', '', u'ACCA', '', u'rowId-54', u'Aamir Hasan,', '', u'FCCA', '', u'rowId-55', u'Aamir Hussain Padhani,', '', u'ACCA', '', u'rowId-56', u'Aamir Jehanzeb Karamat,', '', u'FCCA', '', u'rowId-57', u'Aamir Majeed,', '', u'FCCA', '', u'rowId-58', u'Aamir Majeed Khan,', '', u'ACCA', '', u'rowId-59', u'Aamir Manzoor,', '', u'ACCA', '', u'rowId-60', u'Aamir Mohamed Tahir Ali,', '', u'FCCA', '', u'rowId-61', u'Aamir, Muhammad', '', u'ACCA', '', u'rowId-62', u'Aamir Munir,', '', u'FCCA', '', u'rowId-63', u'Aamir Saleem,', '', u'FCCA', '', u'rowId-64', u'Aamir Sarwar,', '', u'FCCA', '', u'rowId-65', u'Aamir Shafique,', '', u'ACCA', '', u'rowId-66', u'Aamir Shahzad,', '', u'ACCA', '', u'rowId-67', u'Aamir Sheikh,', '', u'ACCA', '', u'rowId-68', u'Aamir Sultan Ibrahimi,', '', u'ACCA', '', u'rowId-69', u'Aamir Yousuf,', '', u'ACCA', '', u'rowId-70', u'Aamna Arshad,', '', u'ACCA', '', u'rowId-71', u'Aaqib Atta Zahid,', '', u'ACCA', '', u'rowId-72', u'Aaquibhussein Esmail, Nishat', '', u'ACCA', '', u'rowId-73', u'Aaraeen, M Asad Basheer', '', u'ACCA', '', u'rowId-74', u'Aarif Ali,', '', u'ACCA', '', u'rowId-75', u'Aaron, Emmanuel Enokwara', '', u'FCCA', '', u'rowId-76', u'Aaron Jay Dason,', '', u'ACCA', '', u'rowId-77', u'Aarooran, Siva', '', u'FCCA', '', u'rowId-78', u'Aas Abdulla,', '', u'FCCA', '', u'rowId-79', u'Aasma Butt,', '', u'ACCA', '', u'rowId-80', u'Aathavan, Christina Sharmily', '', u'FCCA', '', u'rowId-81', u'Aatif Akbar Khan,', '', u'ACCA', '', u'rowId-82', u'Aayesha Khan,', '', u'FCCA', '', u'rowId-83', u'Aayusha Zaheer,', '', u'ACCA', '', u'rowId-84', u'Ab Aziz Ismail,', '', u'FCCA', '', u'rowId-85', u'Ab Hamid Bin Shafie,', '', u'FCCA', '', u'rowId-86', u'Ab Hamid, Nur Hamizah', '', u'ACCA', '', u'rowId-87', u'Ab Samad, Muhammad Syauqi', '', u'ACCA', '', u'rowId-88', u'Ab. Razak, Shakir', '', u'ACCA', '', u'rowId-89', u'Ababio, Caleb Kwasi', '', u'ACCA', '', u'rowId-90', u'Abad Ur Rehman,', '', u'FCCA', '', u'rowId-91', u'Abadi, Jabir', '', u'FCCA', '', u'rowId-92', u'Abadoo, David Ekow', '', u'FCCA', '', u'rowId-93', u'Abadzieva, Petya', '', u'ACCA', '', u'rowId-94', u'Abai, Innocent', '', u'FCCA', '', u'rowId-95', u'Abaid-Ur-Rehman,', '', u'FCCA', '', u'rowId-96', u'Abaidoo, Elkanah Kow', '', u'FCCA', '', u'rowId-97', u'Abaitey, Jonathan Tetteh', '', u'ACCA', '', u'rowId-98', u'Abakah Adwoa Atta, Abigail', '', u'ACCA', '', u'rowId-99', u'Abakah, Richard', '', u'FCCA', '', u'rowId-100', u'Abakarov, Said', '', u'ACCA', '']]\n",
      "[[u'rowId-1', '', u'rowId-2', u'dublin', u'rowId-3', u'petaling jaya', u'rowId-4', u'abu dhabi', u'rowId-5', u'dharga town', u'rowId-6', u'kuala lumpur', u'rowId-7', u'malappuram district', u'rowId-8', u'mithapukur', u'rowId-9', u'dhaka', u'rowId-10', u'bromley', u'rowId-11', u'kerala', u'rowId-12', u'baulkham hills', u'rowId-13', u'colombo', u'rowId-14', '', u'rowId-15', '', u'rowId-16', u'kampar', u'rowId-17', u'semenyih', u'rowId-18', '', u'rowId-19', u'seremban', u'rowId-20', u'pakenham', u'rowId-21', u'aylesbury', u'rowId-22', u'palakkad', u'rowId-23', '', u'rowId-24', u'st saviour', u'rowId-25', u'glasgow', u'rowId-26', u'glasgow', u'rowId-27', u'wokingham', u'rowId-28', u'segamat', u'rowId-29', u'subang jaya', u'rowId-30', u'petaling jaya', u'rowId-31', u'hamad town', u'rowId-32', u'seremban', u'rowId-33', u'london', u'rowId-34', u'kuala lumpur', u'rowId-35', u'ottawa', u'rowId-36', u'petaling jaya', u'rowId-37', '', u'rowId-38', u'kuala lumpur', u'rowId-39', u'al khobar', u'rowId-40', u'london', u'rowId-41', u'gaborone', u'rowId-42', '', u'rowId-43', u'shah alam', u'rowId-44', u'nairobi', u'rowId-45', u'rawalpindi', u'rowId-46', u'karachi', u'rowId-47', u'mississauga', u'rowId-48', u'karachi', u'rowId-49', u'gilgit', u'rowId-50', u'karachi', u'rowId-51', u'dammam', u'rowId-52', u'karachi', u'rowId-53', u'karachi', u'rowId-54', u'abu dhabi', u'rowId-55', u'karachi', u'rowId-56', u'karachi', u'rowId-57', '', u'rowId-58', u'romford', u'rowId-59', u'karachi', u'rowId-60', '', u'rowId-61', u'lahore', u'rowId-62', '', u'rowId-63', u'hamilton', u'rowId-64', '', u'rowId-65', u'mansehra', u'rowId-66', u'greenacre', u'rowId-67', '', u'rowId-68', u'karachi', u'rowId-69', u'karachi', u'rowId-70', u'islamabad', u'rowId-71', u'rawalpindi', u'rowId-72', u'dar es salaam', u'rowId-73', u'dubai', u'rowId-74', u'port of spain', u'rowId-75', u'london', u'rowId-76', u'subang jaya', u'rowId-77', u'harrow', u'rowId-78', u\"male', 20379\", u'rowId-79', u'0507630283', u'rowId-80', '', u'rowId-81', u'punjab', u'rowId-82', u'london', u'rowId-83', u'birmingham', u'rowId-84', u'ampang', u'rowId-85', u'ampang', u'rowId-86', u'kuala lumpur', u'rowId-87', u'kuala lumpur', u'rowId-88', u'kuala lumpur', u'rowId-89', u'accra', u'rowId-90', u'morden', u'rowId-91', u'preston', u'rowId-92', u'croydon', u'rowId-93', u'sofia', u'rowId-94', '', u'rowId-95', u'islamabad', u'rowId-96', u'accra', u'rowId-97', u'kumasi', u'rowId-98', u'takoradi', u'rowId-99', u'takoradi', u'rowId-100', u'moscow']]\n",
      "[[u'rowId-1', u'Singapore', u'rowId-2', u'Ireland', u'rowId-3', u'Malaysia', u'rowId-4', u'United Arab Emirates', u'rowId-5', u'Sri Lanka', u'rowId-6', u'Malaysia', u'rowId-7', u'India', u'rowId-8', u'Bangladesh', u'rowId-9', u'Bangladesh', u'rowId-10', u'United Kingdom', u'rowId-11', u'India', u'rowId-12', u'Australia', u'rowId-13', u'Sri Lanka', u'rowId-14', u'Singapore', u'rowId-15', u'Bahrain', u'rowId-16', u'Malaysia', u'rowId-17', u'Malaysia', u'rowId-18', '', u'rowId-19', u'Malaysia', u'rowId-20', u'Australia', u'rowId-21', u'United Kingdom', u'rowId-22', u'India', u'rowId-23', '', u'rowId-24', u'United Kingdom', u'rowId-25', u'United Kingdom', u'rowId-26', u'United Kingdom', u'rowId-27', u'United Kingdom', u'rowId-28', u'Malaysia', u'rowId-29', u'Malaysia', u'rowId-30', u'Malaysia', u'rowId-31', u'Bahrain', u'rowId-32', u'Malaysia', u'rowId-33', u'United Kingdom', u'rowId-34', u'Malaysia', u'rowId-35', u'Canada', u'rowId-36', u'Malaysia', u'rowId-37', '', u'rowId-38', u'Malaysia', u'rowId-39', u'Saudi Arabia', u'rowId-40', u'United Kingdom', u'rowId-41', u'Botswana', u'rowId-42', '', u'rowId-43', u'Malaysia', u'rowId-44', u'Kenya', u'rowId-45', u'Pakistan', u'rowId-46', u'Pakistan', u'rowId-47', u'Canada', u'rowId-48', u'Pakistan', u'rowId-49', u'Pakistan', u'rowId-50', u'Pakistan', u'rowId-51', u'Saudi Arabia', u'rowId-52', u'Pakistan', u'rowId-53', u'Pakistan', u'rowId-54', u'United Arab Emirates', u'rowId-55', u'Pakistan', u'rowId-56', u'Pakistan', u'rowId-57', '', u'rowId-58', u'United Kingdom', u'rowId-59', u'Pakistan', u'rowId-60', '', u'rowId-61', u'Pakistan', u'rowId-62', u'United Arab Emirates', u'rowId-63', u'Canada', u'rowId-64', u'United Arab Emirates', u'rowId-65', u'Pakistan', u'rowId-66', u'Australia', u'rowId-67', '', u'rowId-68', u'Pakistan', u'rowId-69', u'Pakistan', u'rowId-70', u'Pakistan', u'rowId-71', u'Pakistan', u'rowId-72', u'Tanzania, United Republic of', u'rowId-73', u'United Arab Emirates', u'rowId-74', u'Trinidad and Tobago', u'rowId-75', u'United Kingdom', u'rowId-76', u'Malaysia', u'rowId-77', u'United Kingdom', u'rowId-78', u'Maldives', u'rowId-79', u'United Arab Emirates', u'rowId-80', '', u'rowId-81', u'Pakistan', u'rowId-82', u'United Kingdom', u'rowId-83', u'United Kingdom', u'rowId-84', u'Malaysia', u'rowId-85', u'Malaysia', u'rowId-86', u'Malaysia', u'rowId-87', u'Malaysia', u'rowId-88', u'Malaysia', u'rowId-89', u'Ghana', u'rowId-90', u'United Kingdom', u'rowId-91', u'United Kingdom', u'rowId-92', u'United Kingdom', u'rowId-93', u'Bulgaria', u'rowId-94', '', u'rowId-95', u'Pakistan', u'rowId-96', u'Ghana', u'rowId-97', u'Ghana', u'rowId-98', u'Ghana', u'rowId-99', u'Ghana', u'rowId-100', u'Russian Federation']]\n",
      "[[u'rowId-1', u'2014', u'rowId-2', u'2016', u'rowId-3', u'2002', u'rowId-4', u'2015', u'rowId-5', u'2017', u'rowId-6', u'2006', u'rowId-7', u'2016', u'rowId-8', u'2014', u'rowId-9', u'2016', u'rowId-10', u'2002', u'rowId-11', u'2017', u'rowId-12', u'2016', u'rowId-13', u'2014', u'rowId-14', u'2013', u'rowId-15', u'1970', u'rowId-16', u'2006', u'rowId-17', u'2017', u'rowId-18', u'2011', u'rowId-19', u'2013', u'rowId-20', u'2012', u'rowId-21', u'2007', u'rowId-22', u'2017', u'rowId-23', u'2003', u'rowId-24', u'2014', u'rowId-25', u'1974', u'rowId-26', u'1999', u'rowId-27', u'2013', u'rowId-28', u'2016', u'rowId-29', u'2001', u'rowId-30', u'2007', u'rowId-31', u'2016', u'rowId-32', u'2016', u'rowId-33', u'2013', u'rowId-34', u'2016', u'rowId-35', u'2013', u'rowId-36', u'2017', u'rowId-37', u'2007', u'rowId-38', u'2003', u'rowId-39', u'2011', u'rowId-40', u'2017', u'rowId-41', u'2012', u'rowId-42', u'2015', u'rowId-43', u'2014', u'rowId-44', u'2017', u'rowId-45', u'2015', u'rowId-46', u'2017', u'rowId-47', u'2012', u'rowId-48', u'2012', u'rowId-49', u'2012', u'rowId-50', u'2008', u'rowId-51', u'2017', u'rowId-52', u'2014', u'rowId-53', u'2015', u'rowId-54', u'2005', u'rowId-55', u'2015', u'rowId-56', u'2008', u'rowId-57', u'2009', u'rowId-58', u'2013', u'rowId-59', u'2014', u'rowId-60', u'2000', u'rowId-61', u'2014', u'rowId-62', u'2005', u'rowId-63', u'2008', u'rowId-64', u'2009', u'rowId-65', u'2015', u'rowId-66', u'2007', u'rowId-67', u'2015', u'rowId-68', u'2014', u'rowId-69', u'2016', u'rowId-70', u'2016', u'rowId-71', u'2016', u'rowId-72', u'2014', u'rowId-73', u'2017', u'rowId-74', u'2012', u'rowId-75', u'1997', u'rowId-76', u'2017', u'rowId-77', u'2005', u'rowId-78', u'2012', u'rowId-79', u'2017', u'rowId-80', u'2004', u'rowId-81', u'2015', u'rowId-82', u'2009', u'rowId-83', u'2015', u'rowId-84', u'2000', u'rowId-85', u'2000', u'rowId-86', u'2015', u'rowId-87', u'2014', u'rowId-88', u'2014', u'rowId-89', u'2013', u'rowId-90', u'2011', u'rowId-91', u'2000', u'rowId-92', u'1997', u'rowId-93', u'2016', u'rowId-94', u'2010', u'rowId-95', u'2007', u'rowId-96', u'2011', u'rowId-97', u'2015', u'rowId-98', u'2015', u'rowId-99', u'2008', u'rowId-100', u'2017']]\n",
      "[[u'rowId-1', '', u'rowId-2', '', u'rowId-3', '', u'rowId-4', '', u'rowId-5', '', u'rowId-6', '', u'rowId-7', '', u'rowId-8', '', u'rowId-9', '', u'rowId-10', '', '', u'Holds ACCA Practising Certificate', '', '', u'rowId-11', '', u'rowId-12', '', u'rowId-13', '', u'rowId-14', '', u'rowId-15', '', u'rowId-16', '', u'rowId-17', '', u'rowId-18', '', u'rowId-19', '', u'rowId-20', '', u'rowId-21', '', '', u'Holds ACCA Practising Certificate', '', '', u'rowId-22', '', u'rowId-23', '', u'rowId-24', '', u'rowId-25', '', '', u'Holds ACCA Practising Certificate', '', '', u'rowId-26', '', u'rowId-27', '', u'rowId-28', '', u'rowId-29', '', u'rowId-30', '', u'rowId-31', '', u'rowId-32', '', u'rowId-33', '', u'rowId-34', '', u'rowId-35', '', u'rowId-36', '', u'rowId-37', '', u'rowId-38', '', u'rowId-39', '', u'rowId-40', '', u'rowId-41', '', u'rowId-42', '', u'rowId-43', '', u'rowId-44', '', u'rowId-45', '', u'rowId-46', '', u'rowId-47', '', u'rowId-48', '', u'rowId-49', '', u'rowId-50', '', u'rowId-51', '', u'rowId-52', '', u'rowId-53', '', u'rowId-54', '', u'rowId-55', '', u'rowId-56', '', u'rowId-57', '', u'rowId-58', '', u'rowId-59', '', u'rowId-60', '', u'rowId-61', '', u'rowId-62', '', '', u'Holds ACCA Practising Certificate', '', '', u'rowId-63', '', u'rowId-64', '', u'rowId-65', '', u'rowId-66', '', u'rowId-67', '', u'rowId-68', '', u'rowId-69', '', u'rowId-70', '', u'rowId-71', '', u'rowId-72', '', u'rowId-73', '', u'rowId-74', '', u'rowId-75', '', u'rowId-76', '', u'rowId-77', '', u'rowId-78', '', u'rowId-79', '', u'rowId-80', '', u'rowId-81', '', u'rowId-82', '', u'rowId-83', '', u'rowId-84', '', u'rowId-85', '', u'rowId-86', '', u'rowId-87', '', u'rowId-88', '', u'rowId-89', '', u'rowId-90', '', u'rowId-91', '', '', u'Holds ACCA Practising Certificate', '', u'Eligible for statutory auditor status', '', '', u'rowId-92', '', '', u'Holds ACCA Practising Certificate', '', '', u'rowId-93', '', u'rowId-94', '', u'rowId-95', '', u'rowId-96', '', u'rowId-97', '', u'rowId-98', '', u'rowId-99', '', u'rowId-100', '']]\n"
     ]
    }
   ],
   "source": [
    "full_fm_output = []\n",
    "full_tn_output = []\n",
    "full_co_output = []\n",
    "full_yr_output = []\n",
    "full_ct_output = []\n",
    "\n",
    "process = CrawlerProcess()\n",
    "process.crawl(MySpider)\n",
    "process.start()"
   ]
  },
  {
   "cell_type": "markdown",
   "metadata": {},
   "source": [
    "We've now downloaded all the pages that we want to scrape. The first thing to do is to examine what we got back"
   ]
  },
  {
   "cell_type": "code",
   "execution_count": 4,
   "metadata": {},
   "outputs": [
    {
     "name": "stdout",
     "output_type": "stream",
     "text": [
      "['rowId-1', '(Zheng Qinglin), Teh Keng Lin', '', 'ACCA']\n",
      "['rowId-1', '', 'rowId-2', 'dublin']\n",
      "['rowId-1', 'Singapore', 'rowId-2', 'Ireland']\n",
      "['rowId-1', '2014', 'rowId-2', '2016']\n",
      "['rowId-1', '', 'rowId-2', '']\n"
     ]
    }
   ],
   "source": [
    "final_fm_output = []\n",
    "final_tn_output = []\n",
    "final_co_output = []\n",
    "final_yr_output = []\n",
    "final_ct_output = []\n",
    "\n",
    "for i in range(len(full_fm_output)):\n",
    "    for j in range(len(full_fm_output[i])):\n",
    "        final_fm_output.append(full_fm_output[i][j].encode('ascii','replace'))\n",
    "        \n",
    "for i in range(len(full_tn_output)):\n",
    "    for j in range(len(full_tn_output[i])):\n",
    "        final_tn_output.append(full_tn_output[i][j].encode('ascii','replace'))\n",
    "\n",
    "for i in range(len(full_co_output)):\n",
    "    for j in range(len(full_co_output[i])):\n",
    "        final_co_output.append(full_co_output[i][j].encode('ascii','replace'))\n",
    "        \n",
    "for i in range(len(full_yr_output)):\n",
    "    for j in range(len(full_yr_output[i])):\n",
    "        final_yr_output.append(full_yr_output[i][j].encode('ascii','replace'))\n",
    "        \n",
    "for i in range(len(full_ct_output)):\n",
    "    for j in range(len(full_ct_output[i])):\n",
    "        final_ct_output.append(full_ct_output[i][j].encode('ascii','replace'))\n",
    "\n",
    "print(final_fm_output[0:4])\n",
    "print(final_tn_output[0:4])\n",
    "print(final_co_output[0:4])\n",
    "print(final_yr_output[0:4])\n",
    "print(final_ct_output[0:4])"
   ]
  },
  {
   "cell_type": "code",
   "execution_count": 6,
   "metadata": {},
   "outputs": [],
   "source": [
    "row_index_fm = []\n",
    "row_index_tn = []\n",
    "row_index_co = []\n",
    "row_index_yr = []\n",
    "row_index_ct = []\n",
    "\n",
    "for i in range(len(final_fm_output)):\n",
    "    if \"rowId\" in final_fm_output[i]:\n",
    "        row_index_fm.append(i)\n",
    "\n",
    "for i in range(len(final_tn_output)):\n",
    "    if \"rowId\" in final_tn_output[i]:\n",
    "        row_index_tn.append(i)\n",
    "\n",
    "for i in range(len(final_co_output)):\n",
    "    if \"rowId\" in final_co_output[i]:\n",
    "        row_index_co.append(i)\n",
    "\n",
    "for i in range(len(final_yr_output)):\n",
    "    if \"rowId\" in final_yr_output[i]:\n",
    "        row_index_yr.append(i)\n",
    "\n",
    "for i in range(len(final_ct_output)):\n",
    "    if \"rowId\" in final_ct_output[i]:\n",
    "        row_index_ct.append(i)"
   ]
  },
  {
   "cell_type": "code",
   "execution_count": 21,
   "metadata": {},
   "outputs": [
    {
     "name": "stdout",
     "output_type": "stream",
     "text": [
      "[['(Zheng Qinglin), Teh Keng Lin', '', 'ACCA', ''], [', Ajomale, Oluwatoromo, Yemi, Isaac', '', 'ACCA', ''], ['@ Lee Shiang Yee, Lee Chong Chu', '', 'FCCA', ''], ['A Abdullah, Shafiullah', '', 'ACCA', ''], ['A Haleem Mohamed Ashqar,', '', 'ACCA', '']]\n",
      "[[''], ['dublin'], ['petaling jaya'], ['abu dhabi'], ['dharga town']]\n",
      "[['Singapore'], ['Ireland'], ['Malaysia'], ['United Arab Emirates'], ['Sri Lanka']]\n",
      "[['2014'], ['2016'], ['2002'], ['2015'], ['2017']]\n",
      "[[''], [''], [''], [''], [''], [''], [''], [''], [''], ['', '', 'Holds ACCA Practising Certificate', '', ''], [''], [''], [''], [''], [''], [''], [''], [''], [''], [''], ['', '', 'Holds ACCA Practising Certificate', '', ''], [''], [''], [''], ['', '', 'Holds ACCA Practising Certificate', '', ''], [''], [''], [''], [''], ['']]\n"
     ]
    }
   ],
   "source": [
    "split_output_fm = []\n",
    "split_output_tn = []\n",
    "split_output_co = []\n",
    "split_output_yr = []\n",
    "split_output_ct = []\n",
    "\n",
    "start = 0\n",
    "for index in row_index_fm[1:]:\n",
    "    split_output_fm.append(final_fm_output[start+1:index])\n",
    "    start = index\n",
    "    \n",
    "split_output_fm.append(final_fm_output[start+1:])\n",
    "\n",
    "start = 0\n",
    "for index in row_index_tn[1:]:\n",
    "    split_output_tn.append(final_tn_output[start+1:index])\n",
    "    start = index\n",
    "    \n",
    "split_output_tn.append(final_tn_output[start+1:])\n",
    "\n",
    "start = 0\n",
    "for index in row_index_co[1:]:\n",
    "    split_output_co.append(final_co_output[start+1:index])\n",
    "    start = index\n",
    "    \n",
    "split_output_co.append(final_co_output[start+1:])\n",
    "\n",
    "start = 0\n",
    "for index in row_index_yr[1:]:\n",
    "    split_output_yr.append(final_yr_output[start+1:index])\n",
    "    start = index\n",
    "    \n",
    "split_output_yr.append(final_yr_output[start+1:])\n",
    "\n",
    "start = 0\n",
    "for index in row_index_ct[1:]:\n",
    "    split_output_ct.append(final_ct_output[start+1:index])\n",
    "    start = index\n",
    "    \n",
    "split_output_ct.append(final_ct_output[start+1:])\n",
    "\n",
    "print(split_output_fm[0:5])\n",
    "print(split_output_tn[0:5])\n",
    "print(split_output_co[0:5])\n",
    "print(split_output_yr[0:5])"
   ]
  },
  {
   "cell_type": "code",
   "execution_count": 32,
   "metadata": {},
   "outputs": [
    {
     "name": "stdout",
     "output_type": "stream",
     "text": [
      "['ACCA', 'ACCA', 'FCCA', 'ACCA', 'ACCA', 'FCCA', 'ACCA', 'ACCA', 'ACCA', 'FCCA', 'ACCA', 'ACCA', 'ACCA', 'ACCA', 'FCCA', 'FCCA', 'ACCA', 'FCCA', 'ACCA', 'FCCA', 'FCCA', 'ACCA', 'FCCA', 'ACCA', 'FCCA', 'FCCA', 'ACCA', 'ACCA', 'FCCA', 'FCCA', 'ACCA', 'ACCA', 'ACCA', 'ACCA', 'ACCA', 'ACCA', 'FCCA', 'FCCA', 'ACCA', 'ACCA', 'ACCA', 'ACCA', 'ACCA', 'ACCA', 'ACCA', 'ACCA', 'FCCA', 'ACCA', 'ACCA', 'FCCA', 'ACCA', 'ACCA', 'ACCA', 'FCCA', 'ACCA', 'FCCA', 'FCCA', 'ACCA', 'ACCA', 'FCCA', 'ACCA', 'FCCA', 'FCCA', 'FCCA', 'ACCA', 'ACCA', 'ACCA', 'ACCA', 'ACCA', 'ACCA', 'ACCA', 'ACCA', 'ACCA', 'ACCA', 'FCCA', 'ACCA', 'FCCA', 'FCCA', 'ACCA', 'FCCA', 'ACCA', 'FCCA', 'ACCA', 'FCCA', 'FCCA', 'ACCA', 'ACCA', 'ACCA', 'ACCA', 'FCCA', 'FCCA', 'FCCA', 'ACCA', 'FCCA', 'FCCA', 'FCCA', 'ACCA', 'ACCA', 'FCCA', 'ACCA']\n"
     ]
    }
   ],
   "source": [
    "final_fm = []   \n",
    "for i in range(len(split_output_fm)):\n",
    "    fm = []\n",
    "    \n",
    "    for j in range(len(split_output_fm[i])):\n",
    "        if split_output_fm[i][j]:\n",
    "            fm.append(split_output_fm[i][j].encode('ascii','replace'))\n",
    "            \n",
    "    final_fm.append(fm)\n",
    "\n",
    "final_tn = []\n",
    "for a in split_output_tn:\n",
    "    if a:\n",
    "        final_tn.append(a[0])\n",
    "    else:\n",
    "        final_tn.append(\"\")\n",
    "\n",
    "final_co = []\n",
    "for a in split_output_co:\n",
    "    if a:\n",
    "        final_co.append(a[0])\n",
    "    else:\n",
    "        final_co.append(\"\")\n",
    "\n",
    "final_yr = []\n",
    "for a in split_output_yr:\n",
    "    if a:\n",
    "        final_yr.append(int(a[0]))\n",
    "    else:\n",
    "        final_yr.append(None)\n",
    "\n",
    "final_ct = []   \n",
    "for i in range(len(split_output_ct)):\n",
    "    ct = []\n",
    "    \n",
    "    for j in range(len(split_output_ct[i])):\n",
    "        if split_output_ct[i][j]:\n",
    "            ct.append(split_output_ct[i][j].encode('ascii','replace'))\n",
    "            \n",
    "    final_ct.append(ct)\n",
    "\n",
    "\n",
    "final_nm = []\n",
    "final_ty = []\n",
    "for i in final_fm:\n",
    "    final_nm.append(i[0])\n",
    "    final_ty.append(i[1])"
   ]
  },
  {
   "cell_type": "code",
   "execution_count": 33,
   "metadata": {},
   "outputs": [],
   "source": [
    "members_matrix_ACCA = []\n",
    "\n",
    "for i in range(len(final_nm)):\n",
    "    members_matrix_ACCA.append([final_nm[i],final_ty[i],final_tn[i],final_co[i],final_yr[i],final_ct[i]])\n"
   ]
  },
  {
   "cell_type": "code",
   "execution_count": 34,
   "metadata": {},
   "outputs": [
    {
     "name": "stdout",
     "output_type": "stream",
     "text": [
      "[['(Zheng Qinglin), Teh Keng Lin', 'ACCA', '', 'Singapore', 2014, []], [', Ajomale, Oluwatoromo, Yemi, Isaac', 'ACCA', 'dublin', 'Ireland', 2016, []], ['@ Lee Shiang Yee, Lee Chong Chu', 'FCCA', 'petaling jaya', 'Malaysia', 2002, []], ['A Abdullah, Shafiullah', 'ACCA', 'abu dhabi', 'United Arab Emirates', 2015, []], ['A Haleem Mohamed Ashqar,', 'ACCA', 'dharga town', 'Sri Lanka', 2017, []], ['A Halim, Mohammad H', 'FCCA', 'kuala lumpur', 'Malaysia', 2006, []], ['A K, Afzal', 'ACCA', 'malappuram district', 'India', 2016, []], ['A K M Koushik Ahmed,', 'ACCA', 'mithapukur', 'Bangladesh', 2014, []], ['A K M Saidur Rahman,', 'ACCA', 'dhaka', 'Bangladesh', 2016, []], ['A Kanapathy, Kamaleswaran', 'FCCA', 'bromley', 'United Kingdom', 2002, ['Holds ACCA Practising Certificate']], ['A L Ashif Aboobacker,', 'ACCA', 'kerala', 'India', 2017, []], ['A Madduma Patabendige, T S', 'ACCA', 'baulkham hills', 'Australia', 2016, []], ['A R B Thiruchchenthooran,', 'ACCA', 'colombo', 'Sri Lanka', 2014, []], ['A Rahim, Abdul Azim', 'ACCA', '', 'Singapore', 2013, []], ['A Redha Abdulla Faraj,', 'FCCA', '', 'Bahrain', 1970, []], ['A Saiful Azlin B P Salin,', 'FCCA', 'kampar', 'Malaysia', 2006, []], ['A Singh, Gurwachan Kaur', 'ACCA', 'semenyih', 'Malaysia', 2017, []], ['A Singh, Sukhsharan K', 'FCCA', '', '', 2011, []], ['A Suriya, Eidth Sangith', 'ACCA', 'seremban', 'Malaysia', 2013, []], ['A Thanabalan, Jessey Sharmila', 'FCCA', 'pakenham', 'Australia', 2012, []], ['A Thangarajah, Justin J', 'FCCA', 'aylesbury', 'United Kingdom', 2007, ['Holds ACCA Practising Certificate']], ['A Y, Suhail', 'ACCA', 'palakkad', 'India', 2017, []], [\"A'Court, David J\", 'FCCA', '', '', 2003, []], [\"A'Court, Jason\", 'ACCA', 'st saviour', 'United Kingdom', 2014, []], [\"A'Hara, John\", 'FCCA', 'glasgow', 'United Kingdom', 1974, ['Holds ACCA Practising Certificate']], [\"A'Hara, Marc John\", 'FCCA', 'glasgow', 'United Kingdom', 1999, []], [\"A'Monju Moavu, Kengjisu\", 'ACCA', 'wokingham', 'United Kingdom', 2013, []], ['A,Rahman, Dzarifah', 'ACCA', 'segamat', 'Malaysia', 2016, []], ['A-Rahman, Farha Hanina', 'FCCA', 'subang jaya', 'Malaysia', 2001, []], ['A. Wahab, Nor Hafizah', 'FCCA', 'petaling jaya', 'Malaysia', 2007, []], ['A.Rahim Haider Balooshi,', 'ACCA', 'hamad town', 'Bahrain', 2016, []], ['A/L Krishnan, Gobinaathan', 'ACCA', 'seremban', 'Malaysia', 2016, []], ['A/P Amar Singh, Sharanjit Kaur', 'ACCA', 'london', 'United Kingdom', 2013, []], ['A/P Anthonysamy, Yeosicca Janey', 'ACCA', 'kuala lumpur', 'Malaysia', 2016, []], ['A/P Changara Singh, Harmeet Kaur', 'ACCA', 'ottawa', 'Canada', 2013, []], ['A/P M.Ramanathan, Meenakshi', 'ACCA', 'petaling jaya', 'Malaysia', 2017, []], ['A/P Periyanan, Vasantha Devi', 'FCCA', '', '', 2007, []], ['A/P Visvanathan, Josephine Sheela', 'FCCA', 'kuala lumpur', 'Malaysia', 2003, []], ['Aabid Nezam Khan,', 'ACCA', 'al khobar', 'Saudi Arabia', 2011, []], ['Aabida Mohmed,', 'ACCA', 'london', 'United Kingdom', 2017, []], ['Aabobe, Kagiso', 'ACCA', 'gaborone', 'Botswana', 2012, []], ['Aaca, Caroline', 'ACCA', '', '', 2015, []], ['Aaina Elfera Abd Manaf,', 'ACCA', 'shah alam', 'Malaysia', 2014, []], ['Aakash Bharatkumar Mehta, Aakash', 'ACCA', 'nairobi', 'Kenya', 2017, []], ['Aalijah Kamal,', 'ACCA', 'rawalpindi', 'Pakistan', 2015, []], ['Aamdani, Shahnil', 'ACCA', 'karachi', 'Pakistan', 2017, []], ['Aamir Abbas,', 'FCCA', 'mississauga', 'Canada', 2012, []], ['Aamir Abdul Malik,', 'ACCA', 'karachi', 'Pakistan', 2012, []], ['Aamir Abdul Sultan Haji,', 'ACCA', 'gilgit', 'Pakistan', 2012, []], ['Aamir Afzal Jessani,', 'FCCA', 'karachi', 'Pakistan', 2008, []], ['Aamir Altaf Hussain,', 'ACCA', 'dammam', 'Saudi Arabia', 2017, []], ['Aamir Amiruddin,', 'ACCA', 'karachi', 'Pakistan', 2014, []], ['Aamir Aslam Punjwani,', 'ACCA', 'karachi', 'Pakistan', 2015, []], ['Aamir Hasan,', 'FCCA', 'abu dhabi', 'United Arab Emirates', 2005, []], ['Aamir Hussain Padhani,', 'ACCA', 'karachi', 'Pakistan', 2015, []], ['Aamir Jehanzeb Karamat,', 'FCCA', 'karachi', 'Pakistan', 2008, []], ['Aamir Majeed,', 'FCCA', '', '', 2009, []], ['Aamir Majeed Khan,', 'ACCA', 'romford', 'United Kingdom', 2013, []], ['Aamir Manzoor,', 'ACCA', 'karachi', 'Pakistan', 2014, []], ['Aamir Mohamed Tahir Ali,', 'FCCA', '', '', 2000, []], ['Aamir, Muhammad', 'ACCA', 'lahore', 'Pakistan', 2014, []], ['Aamir Munir,', 'FCCA', '', 'United Arab Emirates', 2005, ['Holds ACCA Practising Certificate']], ['Aamir Saleem,', 'FCCA', 'hamilton', 'Canada', 2008, []], ['Aamir Sarwar,', 'FCCA', '', 'United Arab Emirates', 2009, []], ['Aamir Shafique,', 'ACCA', 'mansehra', 'Pakistan', 2015, []], ['Aamir Shahzad,', 'ACCA', 'greenacre', 'Australia', 2007, []], ['Aamir Sheikh,', 'ACCA', '', '', 2015, []], ['Aamir Sultan Ibrahimi,', 'ACCA', 'karachi', 'Pakistan', 2014, []], ['Aamir Yousuf,', 'ACCA', 'karachi', 'Pakistan', 2016, []], ['Aamna Arshad,', 'ACCA', 'islamabad', 'Pakistan', 2016, []], ['Aaqib Atta Zahid,', 'ACCA', 'rawalpindi', 'Pakistan', 2016, []], ['Aaquibhussein Esmail, Nishat', 'ACCA', 'dar es salaam', 'Tanzania, United Republic of', 2014, []], ['Aaraeen, M Asad Basheer', 'ACCA', 'dubai', 'United Arab Emirates', 2017, []], ['Aarif Ali,', 'ACCA', 'port of spain', 'Trinidad and Tobago', 2012, []], ['Aaron, Emmanuel Enokwara', 'FCCA', 'london', 'United Kingdom', 1997, []], ['Aaron Jay Dason,', 'ACCA', 'subang jaya', 'Malaysia', 2017, []], ['Aarooran, Siva', 'FCCA', 'harrow', 'United Kingdom', 2005, []], ['Aas Abdulla,', 'FCCA', \"male', 20379\", 'Maldives', 2012, []], ['Aasma Butt,', 'ACCA', '0507630283', 'United Arab Emirates', 2017, []], ['Aathavan, Christina Sharmily', 'FCCA', '', '', 2004, []], ['Aatif Akbar Khan,', 'ACCA', 'punjab', 'Pakistan', 2015, []], ['Aayesha Khan,', 'FCCA', 'london', 'United Kingdom', 2009, []], ['Aayusha Zaheer,', 'ACCA', 'birmingham', 'United Kingdom', 2015, []], ['Ab Aziz Ismail,', 'FCCA', 'ampang', 'Malaysia', 2000, []], ['Ab Hamid Bin Shafie,', 'FCCA', 'ampang', 'Malaysia', 2000, []], ['Ab Hamid, Nur Hamizah', 'ACCA', 'kuala lumpur', 'Malaysia', 2015, []], ['Ab Samad, Muhammad Syauqi', 'ACCA', 'kuala lumpur', 'Malaysia', 2014, []], ['Ab. Razak, Shakir', 'ACCA', 'kuala lumpur', 'Malaysia', 2014, []], ['Ababio, Caleb Kwasi', 'ACCA', 'accra', 'Ghana', 2013, []], ['Abad Ur Rehman,', 'FCCA', 'morden', 'United Kingdom', 2011, []], ['Abadi, Jabir', 'FCCA', 'preston', 'United Kingdom', 2000, ['Holds ACCA Practising Certificate', 'Eligible for statutory auditor status']], ['Abadoo, David Ekow', 'FCCA', 'croydon', 'United Kingdom', 1997, ['Holds ACCA Practising Certificate']], ['Abadzieva, Petya', 'ACCA', 'sofia', 'Bulgaria', 2016, []], ['Abai, Innocent', 'FCCA', '', '', 2010, []], ['Abaid-Ur-Rehman,', 'FCCA', 'islamabad', 'Pakistan', 2007, []], ['Abaidoo, Elkanah Kow', 'FCCA', 'accra', 'Ghana', 2011, []], ['Abaitey, Jonathan Tetteh', 'ACCA', 'kumasi', 'Ghana', 2015, []], ['Abakah Adwoa Atta, Abigail', 'ACCA', 'takoradi', 'Ghana', 2015, []], ['Abakah, Richard', 'FCCA', 'takoradi', 'Ghana', 2008, []], ['Abakarov, Said', 'ACCA', 'moscow', 'Russian Federation', 2017, []]]\n"
     ]
    }
   ],
   "source": [
    "print(members_matrix_ACCA)"
   ]
  },
  {
   "cell_type": "markdown",
   "metadata": {},
   "source": [
    "f = open('/home/de-admin/Documents/Webscraping/ACCA_Firms.txt', 'w')\n",
    "\n",
    "for item in firms_matrix_ACCA:\n",
    "    print>>f, item\n",
    "\n",
    "f.close()\n"
   ]
  },
  {
   "cell_type": "code",
   "execution_count": null,
   "metadata": {
    "collapsed": true
   },
   "outputs": [],
   "source": []
  }
 ],
 "metadata": {
  "anaconda-cloud": {},
  "kernelspec": {
   "display_name": "Python 2",
   "language": "python",
   "name": "python2"
  },
  "language_info": {
   "codemirror_mode": {
    "name": "ipython",
    "version": 2
   },
   "file_extension": ".py",
   "mimetype": "text/x-python",
   "name": "python",
   "nbconvert_exporter": "python",
   "pygments_lexer": "ipython2",
   "version": "2.7.15rc1"
  }
 },
 "nbformat": 4,
 "nbformat_minor": 1
}
