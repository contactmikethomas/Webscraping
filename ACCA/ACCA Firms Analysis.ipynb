{
 "cells": [
  {
   "cell_type": "code",
   "execution_count": 1,
   "metadata": {
    "collapsed": true
   },
   "outputs": [],
   "source": [
    "import pickle\n",
    "\n",
    "ACCA_Firms = pickle.load(open('/home/de-admin/Documents/Webscraping/ACCA_Firms.p','rb'))"
   ]
  },
  {
   "cell_type": "code",
   "execution_count": 2,
   "metadata": {
    "collapsed": false
   },
   "outputs": [
    {
     "name": "stdout",
     "output_type": "stream",
     "text": [
      "['0359578', 'Richardson Watson & Co', ['Crosspoint House, First floor, 28 Stafford road', 'United Kingdom'], 'SM6 9AA', '020 8647 1197', 'nigel@rw-co.co.uk', 'http://www.rw-co.co.uk', ['Sector expertise', 'Catering (Pubs, Restaurants, Food and Drink), Construction Industry, Doctors, Manufacturing, Motor Retailers, Printing and Publishing, Retail, Sub-Contractors', 'Services offered', 'Bank loans and overdrafts (inc SFLGS), Business plans (external and internal), Business plans, Business start-up and company formation, Company secretarial service, Cost systems and control, Data processing services, Information Technology, Internal audit and systems security, Limited company accounts, Management accounting consultancy, Management advice to business, Management consultancy, Partnership / sole trader accounts, Start-up Finance(inc using own funds), Tax and NI investigations, Tax(CGT, Corporate, IHT, Personal and VAT)', 'Certificates held', 'Regulated to undertake a range of investment business activities by ACCA under the Financial Services and Markets Act 2000', 'Wholly composed of Chartered Certified Accountants']]\n",
      "8355\n"
     ]
    }
   ],
   "source": [
    "print(ACCA_Firms[0])\n",
    "print(len(ACCA_Firms))"
   ]
  },
  {
   "cell_type": "code",
   "execution_count": 3,
   "metadata": {
    "collapsed": false
   },
   "outputs": [
    {
     "name": "stdout",
     "output_type": "stream",
     "text": [
      "[[8219, 'Telephone Number'], [7601, 'Email Address'], [3946, 'Website']]\n"
     ]
    }
   ],
   "source": [
    "des_count = [[0, 'Telephone Number'],[0, 'Email Address'],[0, 'Website']]\n",
    "\n",
    "for i in ACCA_Firms:\n",
    "    if i[4]:\n",
    "        des_count[0][0] += int(1)\n",
    "    if i[5]:\n",
    "        des_count[1][0] += int(1)\n",
    "    if i[6]:\n",
    "        des_count[2][0] += int(1)\n",
    "\n",
    "print(des_count)"
   ]
  },
  {
   "cell_type": "code",
   "execution_count": 4,
   "metadata": {
    "collapsed": true
   },
   "outputs": [],
   "source": [
    "qual_list = []\n",
    "\n",
    "for i in ACCA_Firms:\n",
    "    for j in i[7]:\n",
    "        qual_list.append(j)\n",
    "\n",
    "qual_set = set(qual_list)"
   ]
  },
  {
   "cell_type": "code",
   "execution_count": 5,
   "metadata": {
    "collapsed": false
   },
   "outputs": [],
   "source": [
    "qual_count = []\n",
    "\n",
    "for a in qual_set:\n",
    "    qual_count.append([qual_list.count(a),a])\n",
    "    \n",
    "qual_count.sort(reverse=1)"
   ]
  },
  {
   "cell_type": "code",
   "execution_count": 6,
   "metadata": {
    "collapsed": false
   },
   "outputs": [
    {
     "name": "stdout",
     "output_type": "stream",
     "text": [
      "[7199, 'Certificates held']\n",
      "[6899, 'Wholly composed of Chartered Certified Accountants']\n",
      "[3652, 'Services offered']\n",
      "[3094, 'Sector expertise']\n",
      "[1893, 'Registered as auditors in the UK/Ireland by ACCA']\n",
      "[792, 'Regulated to undertake a range of investment business activities by ACCA under the Financial Services and Markets Act 2000']\n",
      "[406, 'Regulated to undertake a range of credit related activities under the Financial Services and Markets Act 2000']\n"
     ]
    }
   ],
   "source": [
    "for i in qual_count[0:7]:\n",
    "    print(i)"
   ]
  },
  {
   "cell_type": "code",
   "execution_count": 7,
   "metadata": {
    "collapsed": false
   },
   "outputs": [
    {
     "name": "stdout",
     "output_type": "stream",
     "text": [
      "['Certificates held', 'Wholly composed of Chartered Certified Accountants', 'Services offered', 'Sector expertise', 'Registered as auditors in the UK/Ireland by ACCA', 'Regulated to undertake a range of investment business activities by ACCA under the Financial Services and Markets Act 2000', 'Regulated to undertake a range of credit related activities under the Financial Services and Markets Act 2000']\n"
     ]
    }
   ],
   "source": [
    "certs = []\n",
    "\n",
    "for i in qual_count[0:7]:\n",
    "    certs.append(i[1])\n",
    "\n",
    "pickle.dump(certs, open('/home/de-admin/Documents/Webscraping/ACCA_Certs.p','wb'))\n",
    "\n",
    "print(certs)"
   ]
  },
  {
   "cell_type": "code",
   "execution_count": 8,
   "metadata": {
    "collapsed": false
   },
   "outputs": [],
   "source": [
    "spec_list = []\n",
    "compound_counts = [[0, 'Tax(CGT, Corporate, IHT, Personal and VAT)'],[0, 'Catering (Pubs, Restaurants, Food and Drink)'],[0, 'Grants and Finance (EU,government)']]\n",
    "\n",
    "for c in compound_counts:\n",
    "    for i in ACCA_Firms:\n",
    "        for j in i[7]:\n",
    "            if not j in certs:\n",
    "                if not j.find(c[1]) == -1:                    \n",
    "                    c[0] += int(1)\n",
    "\n",
    "for i in ACCA_Firms:\n",
    "    for j in i[7]:\n",
    "        if not j in certs:\n",
    "            for k in j.split(\",\"):\n",
    "                spec_list.append(k.strip())\n",
    "\n",
    "spec_set = set(spec_list)"
   ]
  },
  {
   "cell_type": "code",
   "execution_count": 9,
   "metadata": {
    "collapsed": false
   },
   "outputs": [],
   "source": [
    "spec_count = []\n",
    "compound_cut = ['Tax(CGT','Personal and VAT)','IHT','Corporate','Restaurants','Food and Drink)','Catering (Pubs','government)','Grants and Finance (EU']\n",
    "\n",
    "for a in spec_set:\n",
    "    if not a in compound_cut:\n",
    "        spec_count.append([spec_list.count(a),a])\n",
    "\n",
    "for i in compound_counts:\n",
    "    spec_count.append(i)\n",
    "    \n",
    "spec_count.sort(reverse=1)"
   ]
  },
  {
   "cell_type": "code",
   "execution_count": 10,
   "metadata": {
    "collapsed": false
   },
   "outputs": [
    {
     "name": "stdout",
     "output_type": "stream",
     "text": [
      "[3103, 'Partnership / sole trader accounts']\n",
      "[3023, 'Limited company accounts']\n",
      "[2969, 'Tax(CGT, Corporate, IHT, Personal and VAT)']\n",
      "[2482, 'Business start-up and company formation']\n",
      "[2154, 'Management accounting consultancy']\n",
      "[2071, 'Business plans']\n",
      "[1994, 'Retail']\n",
      "[1972, 'Management advice to business']\n",
      "[1840, 'Tax and NI investigations']\n",
      "[1830, 'Sub-Contractors']\n",
      "[1744, 'Company secretarial service']\n",
      "[1685, 'Construction Industry']\n",
      "[1638, 'Catering (Pubs, Restaurants, Food and Drink)']\n",
      "[1532, 'Management consultancy']\n",
      "[1499, 'IT/Software']\n",
      "[1407, 'Manufacturing']\n",
      "[1251, 'Service Industries']\n",
      "[1105, 'Motor Retailers']\n",
      "[1064, 'Charities']\n",
      "[1051, 'Printing and Publishing']\n",
      "[1018, 'Engineering']\n",
      "[978, 'Dentists']\n",
      "[951, 'Clubs and Associations']\n",
      "[932, 'Distribution and Transport']\n",
      "[910, 'Information Technology']\n",
      "[910, 'Estate Agents']\n",
      "[905, 'Doctors']\n",
      "[860, 'Solicitors']\n",
      "[805, 'Entertainment']\n",
      "[751, 'Tourism and Travel Agents']\n",
      "[737, 'Cost systems and control']\n",
      "[672, 'Advertising']\n",
      "[667, 'Housing']\n",
      "[659, 'Data processing services']\n",
      "[629, 'Business process improvements']\n",
      "[595, 'Architects']\n",
      "[551, 'Financial Services']\n",
      "[536, 'Share valuations']\n",
      "[447, 'Education']\n",
      "[433, 'Internal audit and systems security']\n",
      "[424, 'Bank loans and overdrafts (inc SFLGS)']\n",
      "[382, 'Telecommunications']\n",
      "[372, 'Arts and Cultures Industries']\n",
      "[343, 'Trusteeship / Trust Administration']\n",
      "[338, 'Corporate finance']\n",
      "[330, 'Vets']\n",
      "[329, 'Estate planning and executorship']\n",
      "[325, 'Feasibility studies']\n",
      "[299, 'Agriculture and Forestry']\n",
      "[296, 'Small scale equity issues']\n",
      "[268, 'Friendly Societies']\n",
      "[266, 'Grants and Finance (EU,government)']\n",
      "[253, 'Business risk assessment']\n",
      "[221, 'Benchmarking']\n",
      "[207, 'Debt counselling']\n",
      "[196, 'Public sector']\n",
      "[177, 'Establishing a business overseas']\n",
      "[173, 'Expert witness']\n",
      "[162, 'Corporate recovery']\n",
      "[142, 'Divorce matrimonial']\n",
      "[123, 'Export finance planning and tax']\n",
      "[120, 'Business plans (external and internal)']\n",
      "[117, 'Treasury']\n",
      "[116, 'Start-up Finance(inc using own funds)']\n",
      "[50, 'Available for Continuity of Practice']\n",
      "[31, 'Arbitration']\n",
      "[18, 'Environmental auditing']\n"
     ]
    }
   ],
   "source": [
    "pickle.dump(spec_count, open('/home/de-admin/Documents/Webscraping/ACCA_Specs.p','wb'))\n",
    "\n",
    "for i in spec_count:\n",
    "    print(i)"
   ]
  },
  {
   "cell_type": "code",
   "execution_count": 11,
   "metadata": {
    "collapsed": false
   },
   "outputs": [],
   "source": [
    "import csv\n",
    "import pandas as pd\n",
    "\n",
    "pc_geodata = []\n",
    "\n",
    "f = open('/home/de-admin/Documents/Geodata/National_Statistics_Postcode_Lookup_UK.csv')\n",
    "\n",
    "for row in csv.reader(f, delimiter=','):\n",
    "        pc_geodata.append(row)\n",
    "\n",
    "pc2_geodata = []        \n",
    "\n",
    "for i in pc_geodata[1:]:\n",
    "    pc2_geodata.append([i[0].replace(\" \", \"\"),i[30],i[31]])\n",
    "    \n",
    "pd_geodata = pd.DataFrame(pc2_geodata, columns=[\"Postcode\",pc_geodata[0][30],pc_geodata[0][31]])"
   ]
  },
  {
   "cell_type": "code",
   "execution_count": 12,
   "metadata": {
    "collapsed": false
   },
   "outputs": [],
   "source": [
    "ACCA_Locations = []\n",
    "\n",
    "for i in ACCA_Firms:\n",
    "    ACCA_Locations.append(i[3].replace(\" \", \"\"))\n",
    "    \n",
    "pd_ACCA_Locations = pd.DataFrame(ACCA_Locations,columns=[\"Postcode\"])\n",
    "\n",
    "pd_ACCA_LatLon = pd.merge(pd_ACCA_Locations, pd_geodata, on=\"Postcode\")\n",
    "\n",
    "pd_ACCA_LatLon[['Latitude','Longitude']] = pd_ACCA_LatLon[['Latitude','Longitude']].apply(pd.to_numeric)"
   ]
  },
  {
   "cell_type": "code",
   "execution_count": 13,
   "metadata": {
    "collapsed": false
   },
   "outputs": [
    {
     "name": "stdout",
     "output_type": "stream",
     "text": [
      "    Postcode  Longitude   Latitude\n",
      "164  IM991BD        0.0  99.999999\n",
      "172  IM992BE        0.0  99.999999\n",
      "220   JE24SP        0.0  99.999999\n",
      "345   JE38BF        0.0  99.999999\n",
      "805   GY35AS        0.0  99.999999\n",
      "\n",
      "Postcode     80\n",
      "Longitude    80\n",
      "Latitude     80\n",
      "dtype: int64\n"
     ]
    }
   ],
   "source": [
    "print(pd_ACCA_LatLon[pd_ACCA_LatLon.Latitude == 99.999999].head())\n",
    "print(\"\")\n",
    "print(pd_ACCA_LatLon[pd_ACCA_LatLon.Latitude == 99.999999].count())"
   ]
  },
  {
   "cell_type": "code",
   "execution_count": 17,
   "metadata": {
    "collapsed": false
   },
   "outputs": [],
   "source": [
    "from mpl_toolkits.basemap import Basemap\n",
    "from matplotlib import pyplot as plt\n",
    "\n",
    "plt.clf()\n",
    "plt.figure(figsize=((3+11), (62-49)))\n",
    "map = Basemap(llcrnrlon=-11,llcrnrlat=49,urcrnrlon=3,urcrnrlat=62,resolution=\"h\")\n",
    "\n",
    "map.arcgisimage(service='World_Imagery', xpixels = 2000, verbose= False)\n",
    "\n",
    "for index, row in pd_ACCA_LatLon.iterrows():\n",
    "    map.plot(row[\"Longitude\"],row[\"Latitude\"], marker='.',color='red',ms=2.5, alpha=0.1)\n",
    "\n",
    "plt.savefig('/home/de-admin/Documents/Webscraping/UK.png')"
   ]
  },
  {
   "cell_type": "code",
   "execution_count": 15,
   "metadata": {
    "collapsed": false
   },
   "outputs": [],
   "source": [
    "from mpl_toolkits.basemap import Basemap\n",
    "from matplotlib import pyplot as plt\n",
    "\n",
    "plt.clf()\n",
    "\n",
    "plt.figure(figsize=((20), (20)))\n",
    "map = Basemap(llcrnrlon=-0.65,llcrnrlat=51,urcrnrlon=0.35,urcrnrlat=52,resolution=\"h\")\n",
    "\n",
    "map.arcgisimage(service='World_Topo_Map', xpixels = 2000, verbose= False)\n",
    "\n",
    "for index, row in pd_ACCA_LatLon.iterrows():\n",
    "    map.plot(row[\"Longitude\"],row[\"Latitude\"], marker='.',color='red',ms=5)\n",
    "\n",
    "plt.savefig('/home/de-admin/Documents/Webscraping/London.png')"
   ]
  },
  {
   "cell_type": "code",
   "execution_count": 19,
   "metadata": {
    "collapsed": false
   },
   "outputs": [
    {
     "name": "stdout",
     "output_type": "stream",
     "text": [
      "('Approximate latitude km: 4.4412', 'Approximate longitude km: 3.4156', 'Approximate square km: 15.16936272')\n"
     ]
    },
    {
     "ename": "AttributeError",
     "evalue": "'Basemap' object has no attribute 'ne_110m_ocean'",
     "output_type": "error",
     "traceback": [
      "\u001b[0;31m---------------------------------------------------------------------------\u001b[0m",
      "\u001b[0;31mAttributeError\u001b[0m                            Traceback (most recent call last)",
      "\u001b[0;32m<ipython-input-19-572030b2e3ec>\u001b[0m in \u001b[0;36m<module>\u001b[0;34m()\u001b[0m\n\u001b[1;32m     25\u001b[0m \u001b[0mpatches\u001b[0m   \u001b[0;34m=\u001b[0m \u001b[0;34m[\u001b[0m\u001b[0;34m]\u001b[0m\u001b[0;34m\u001b[0m\u001b[0m\n\u001b[1;32m     26\u001b[0m \u001b[0;34m\u001b[0m\u001b[0m\n\u001b[0;32m---> 27\u001b[0;31m \u001b[0;32mfor\u001b[0m \u001b[0minfo\u001b[0m\u001b[0;34m,\u001b[0m \u001b[0mshape\u001b[0m \u001b[0;32min\u001b[0m \u001b[0mzip\u001b[0m\u001b[0;34m(\u001b[0m\u001b[0mmap\u001b[0m\u001b[0;34m.\u001b[0m\u001b[0mne_110m_ocean\u001b[0m\u001b[0;34m,\u001b[0m \u001b[0mmap\u001b[0m\u001b[0;34m.\u001b[0m\u001b[0mocean\u001b[0m\u001b[0;34m)\u001b[0m\u001b[0;34m:\u001b[0m\u001b[0;34m\u001b[0m\u001b[0m\n\u001b[0m\u001b[1;32m     28\u001b[0m     \u001b[0mpatches\u001b[0m\u001b[0;34m.\u001b[0m\u001b[0mappend\u001b[0m\u001b[0;34m(\u001b[0m \u001b[0mPolygon\u001b[0m\u001b[0;34m(\u001b[0m\u001b[0mnp\u001b[0m\u001b[0;34m.\u001b[0m\u001b[0marray\u001b[0m\u001b[0;34m(\u001b[0m\u001b[0mshape\u001b[0m\u001b[0;34m)\u001b[0m\u001b[0;34m,\u001b[0m \u001b[0mTrue\u001b[0m\u001b[0;34m)\u001b[0m \u001b[0;34m)\u001b[0m\u001b[0;34m\u001b[0m\u001b[0m\n\u001b[1;32m     29\u001b[0m \u001b[0;34m\u001b[0m\u001b[0m\n",
      "\u001b[0;31mAttributeError\u001b[0m: 'Basemap' object has no attribute 'ne_110m_ocean'"
     ]
    }
   ],
   "source": [
    "from mpl_toolkits.basemap import Basemap\n",
    "import numpy as np\n",
    "\n",
    "plt.clf()\n",
    "plt.figure(figsize=((3+11), (62-49)))\n",
    "map = Basemap(llcrnrlon=-11,llcrnrlat=49,urcrnrlon=3,urcrnrlat=62, resolution=\"h\")\n",
    "\n",
    "x = 25\n",
    "nx, ny = 14*x, 13*x\n",
    "print(\"Approximate latitude km: \"+str(14*111.03/nx),\"Approximate longitude km: \"+str(13*85.39/ny),\"Approximate square km: \"+str(14*111.03*13*85.39/(nx*ny)))\n",
    "\n",
    "lon_bins = np.linspace(-11, 3, nx+1)\n",
    "lat_bins = np.linspace(49, 62, ny+1)\n",
    "density, _, _ = np.histogram2d(pd_ACCA_LatLon.Latitude[pd_ACCA_LatLon.Latitude != 99.999999], pd_ACCA_LatLon.Longitude[pd_ACCA_LatLon.Latitude != 99.999999], [lat_bins, lon_bins])\n",
    "\n",
    "lon_bins_2d, lat_bins_2d = np.meshgrid(lon_bins, lat_bins)\n",
    "xs, ys = map(lon_bins_2d, lat_bins_2d)\n",
    "\n",
    "plt.pcolormesh(xs, ys, np.minimum(density, 20.0), cmap='Reds')\n",
    "map.drawcoastlines(linewidth=0.5)\n",
    "map.drawcountries(linewidth=0.5)\n",
    "\n",
    "map.readshapefile('/home/de-admin/Documents/Geodata/ne_110m_ocean', 'ocean', drawbounds = False)\n",
    "\n",
    "patches   = []\n",
    "\n",
    "for info, shape in zip(map.ne_110m_ocean, map.ocean):\n",
    "    patches.append( Polygon(np.array(shape), True) )\n",
    "        \n",
    "ax.add_collection(PatchCollection(patches, facecolor= 'm', edgecolor='k', linewidths=1., zorder=2))\n",
    "\n",
    "plt.colorbar(orientation='horizontal')\n",
    "plt.show()"
   ]
  },
  {
   "cell_type": "code",
   "execution_count": null,
   "metadata": {
    "collapsed": true
   },
   "outputs": [],
   "source": []
  }
 ],
 "metadata": {
  "anaconda-cloud": {},
  "kernelspec": {
   "display_name": "Python [default]",
   "language": "python",
   "name": "python2"
  },
  "language_info": {
   "codemirror_mode": {
    "name": "ipython",
    "version": 2
   },
   "file_extension": ".py",
   "mimetype": "text/x-python",
   "name": "python",
   "nbconvert_exporter": "python",
   "pygments_lexer": "ipython2",
   "version": "2.7.12"
  }
 },
 "nbformat": 4,
 "nbformat_minor": 1
}
