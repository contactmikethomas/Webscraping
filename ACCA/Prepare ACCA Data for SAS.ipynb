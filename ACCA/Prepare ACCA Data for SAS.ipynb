{
 "cells": [
  {
   "cell_type": "code",
   "execution_count": 169,
   "metadata": {
    "collapsed": false
   },
   "outputs": [],
   "source": [
    "import pickle\n",
    "\n",
    "ACCA_Firms = pickle.load(open('/home/de-admin/Documents/Webscraping/ACCA_Firms.p','rb'))"
   ]
  },
  {
   "cell_type": "code",
   "execution_count": 183,
   "metadata": {
    "collapsed": false
   },
   "outputs": [],
   "source": [
    "address_1 = []\n",
    "address_2 = []\n",
    "address_3 = []\n",
    "address_4 = []\n",
    "address_5 = []\n",
    "address_6 = []\n",
    "address_7 = []\n",
    "\n",
    "for i in ACCA_Firms:\n",
    "    if len(i[2][0].split(\", \")) == 0:\n",
    "        address_1.append(\"\")\n",
    "        address_2.append(\"\")\n",
    "        address_3.append(\"\")\n",
    "        address_4.append(\"\")\n",
    "        address_5.append(\"\")\n",
    "    \n",
    "    if len(i[2][0].split(\", \")) == 1:\n",
    "        address_1.append(i[2][0].split(\", \")[0])\n",
    "        address_2.append(\"\")\n",
    "        address_3.append(\"\")\n",
    "        address_4.append(\"\")\n",
    "        address_5.append(\"\")\n",
    "\n",
    "    if len(i[2][0].split(\", \")) == 2:\n",
    "        address_1.append(i[2][0].split(\", \")[0])\n",
    "        address_2.append(i[2][0].split(\", \")[1])\n",
    "        address_3.append(\"\") \n",
    "        address_4.append(\"\")\n",
    "        address_5.append(\"\")  \n",
    "\n",
    "    if len(i[2][0].split(\", \")) == 3:\n",
    "        address_1.append(i[2][0].split(\", \")[0])\n",
    "        address_2.append(i[2][0].split(\", \")[1])\n",
    "        address_3.append(i[2][0].split(\", \")[2])\n",
    "        address_4.append(\"\")\n",
    "        address_5.append(\"\")\n",
    "        \n",
    "    if len(i[2][0].split(\", \")) == 4:\n",
    "        address_1.append(i[2][0].split(\", \")[0])\n",
    "        address_2.append(i[2][0].split(\", \")[1])\n",
    "        address_3.append(i[2][0].split(\", \")[2])\n",
    "        address_4.append(i[2][0].split(\", \")[3])\n",
    "        address_5.append(\"\")\n",
    "\n",
    "    if len(i[2][0].split(\", \")) == 5:\n",
    "        address_1.append(i[2][0].split(\", \")[0])\n",
    "        address_2.append(i[2][0].split(\", \")[1])\n",
    "        address_3.append(i[2][0].split(\", \")[2]) \n",
    "        address_4.append(i[2][0].split(\", \")[3])\n",
    "        address_5.append(i[2][0].split(\", \")[4])\n",
    "        \n",
    "    address_6.append(i[2][-1])"
   ]
  },
  {
   "cell_type": "code",
   "execution_count": 171,
   "metadata": {
    "collapsed": false
   },
   "outputs": [],
   "source": [
    "import re\n",
    "\n",
    "spec_list = pickle.load(open('/home/de-admin/Documents/Webscraping/ACCA_Specs.p','rb'))\n",
    "cert_list = pickle.load(open('/home/de-admin/Documents/Webscraping/ACCA_Certs.p','rb'))\n",
    "\n",
    "for i in spec_list:\n",
    "    vnm = re.sub('[^0-9a-zA-Z]+', '', i[1].title().replace(\" \",\"\"))\n",
    "    exec('%s = []'%vnm)\n",
    "    \n",
    "for i in cert_list:\n",
    "    vnm = re.sub('[^0-9a-zA-Z]+', '', i.title().replace(\" \",\"\"))\n",
    "    exec('%s = []'%vnm)\n",
    "    \n",
    "for i in range(len(ACCA_Firms)):\n",
    "    for j in spec_list:\n",
    "        exec('%s.append(0)'%re.sub('[^0-9a-zA-Z]+', '', j[1].title().replace(\" \",\"\")))\n",
    "\n",
    "    for k in cert_list:\n",
    "        exec('%s.append(0)'%re.sub('[^0-9a-zA-Z]+', '', k.title().replace(\" \",\"\")))"
   ]
  },
  {
   "cell_type": "code",
   "execution_count": 172,
   "metadata": {
    "collapsed": false
   },
   "outputs": [],
   "source": [
    "for i in range(len(ACCA_Firms)):\n",
    "    for j in ACCA_Firms[i][7]:\n",
    "        for k in spec_list:\n",
    "            if j.find(k[1]) != -1:\n",
    "                exec('%s[i] = 1'%re.sub('[^0-9a-zA-Z]+', '', k[1].title().replace(\" \",\"\")))\n",
    "                \n",
    "for i in range(len(ACCA_Firms)):\n",
    "    for j in ACCA_Firms[i][7]:\n",
    "        for k in cert_list:\n",
    "            if j.find(k) != -1:\n",
    "                exec('%s[i] = 1'%re.sub('[^0-9a-zA-Z]+', '', k.title().replace(\" \",\"\")))"
   ]
  },
  {
   "cell_type": "code",
   "execution_count": 187,
   "metadata": {
    "collapsed": false
   },
   "outputs": [
    {
     "name": "stdout",
     "output_type": "stream",
     "text": [
      "['PartnershipSoleTraderAccounts', 'LimitedCompanyAccounts', 'TaxCgtCorporateIhtPersonalAndVat', 'BusinessStartUpAndCompanyFormation', 'ManagementAccountingConsultancy', 'BusinessPlans', 'Retail', 'ManagementAdviceToBusiness', 'TaxAndNiInvestigations', 'SubContractors', 'CompanySecretarialService', 'ConstructionIndustry', 'CateringPubsRestaurantsFoodAndDrink', 'ManagementConsultancy', 'ItSoftware', 'Manufacturing', 'ServiceIndustries', 'MotorRetailers', 'Charities', 'PrintingAndPublishing', 'Engineering', 'Dentists', 'ClubsAndAssociations', 'DistributionAndTransport', 'InformationTechnology', 'EstateAgents', 'Doctors', 'Solicitors', 'Entertainment', 'TourismAndTravelAgents', 'CostSystemsAndControl', 'Advertising', 'Housing', 'DataProcessingServices', 'BusinessProcessImprovements', 'Architects', 'FinancialServices', 'ShareValuations', 'Education', 'InternalAuditAndSystemsSecurity', 'BankLoansAndOverdraftsIncSflgs', 'Telecommunications', 'ArtsAndCulturesIndustries', 'TrusteeshipTrustAdministration', 'CorporateFinance', 'Vets', 'EstatePlanningAndExecutorship', 'FeasibilityStudies', 'AgricultureAndForestry', 'SmallScaleEquityIssues', 'FriendlySocieties', 'GrantsAndFinanceEuGovernment', 'BusinessRiskAssessment', 'Benchmarking', 'DebtCounselling', 'PublicSector', 'EstablishingABusinessOverseas', 'ExpertWitness', 'CorporateRecovery', 'DivorceMatrimonial', 'ExportFinancePlanningAndTax', 'BusinessPlansExternalAndInternal', 'Treasury', 'StartUpFinanceIncUsingOwnFunds', 'AvailableForContinuityOfPractice', 'Arbitration', 'EnvironmentalAuditing', 'CertificatesHeld', 'WhollyComposedOfCharteredCertifiedAccountants', 'ServicesOffered', 'SectorExpertise', 'RegisteredAsAuditorsInTheUkIrelandByAcca', 'RegulatedToUndertakeARangeOfInvestmentBusinessActivitiesByAccaUnderTheFinancialServicesAndMarketsAct2000', 'RegulatedToUndertakeARangeOfCreditRelatedActivitiesUnderTheFinancialServicesAndMarketsAct2000']\n"
     ]
    }
   ],
   "source": [
    "#for i in spec_list:\n",
    "#    exec('print(%s[0:10])'%re.sub('[^0-9a-zA-Z]+', '', i[1].title().replace(\" \",\"\")))\n",
    "    \n",
    "#for i in cert_list:\n",
    "#    exec('print(%s[0:10])'%re.sub('[^0-9a-zA-Z]+', '', i.title().replace(\" \",\"\")))\n",
    "\n",
    "new_vars = []\n",
    "\n",
    "for i in spec_list:\n",
    "    exec('new_vars.append(\"%s\")'%re.sub('[^0-9a-zA-Z]+', '', i[1].title().replace(\" \",\"\")))\n",
    "\n",
    "for i in cert_list:\n",
    "    exec('new_vars.append(\"%s\")'%re.sub('[^0-9a-zA-Z]+', '', i.title().replace(\" \",\"\")))\n",
    "    \n",
    "print(new_vars)"
   ]
  },
  {
   "cell_type": "code",
   "execution_count": 190,
   "metadata": {
    "collapsed": false
   },
   "outputs": [],
   "source": [
    "ACCA_Flat = []\n",
    "\n",
    "for i in range(len(ACCA_Firms)):\n",
    "    ACCA_Flat.append([ACCA_Firms[i][0],ACCA_Firms[i][1],address_1[i],address_2[i],address_3[i],address_4[i],address_5[i],address_6[i],ACCA_Firms[i][3],ACCA_Firms[i][4],ACCA_Firms[i][5],ACCA_Firms[i][6]])"
   ]
  },
  {
   "cell_type": "code",
   "execution_count": 191,
   "metadata": {
    "collapsed": false
   },
   "outputs": [
    {
     "name": "stdout",
     "output_type": "stream",
     "text": [
      "[['0359578', 'Richardson Watson & Co', 'Crosspoint House', 'First floor', '28 Stafford road', '', '', 'United Kingdom', 'SM6 9AA', '020 8647 1197', 'nigel@rw-co.co.uk', 'http://www.rw-co.co.uk'], ['0360950', 'Baptiste & Co', '23 Austin Friars', '', '', '', '', 'United Kingdom', 'EC2N 2QP', '020 36081627', 'baptisteandco@hotmail.com', 'http://www.baptiste-accountants.com'], ['0361133', 'CG LEE Limited', 'Ingram House', 'Meridian Way', '', '', '', 'United Kingdom', 'NR7 0TA', '01603 307900', 'mail@leesaccountants.co.uk', 'http://www.leesaccountants.co.uk'], ['0361520', 'Haslers', 'Old Station Road', '', '', '', '', 'United Kingdom', 'IG10 4PL', '020 8418 3333', 'michael.watts@haslers.com', 'http://www.haslers.com']]\n"
     ]
    }
   ],
   "source": [
    "print(ACCA_Flat[0:4])"
   ]
  },
  {
   "cell_type": "code",
   "execution_count": 192,
   "metadata": {
    "collapsed": false
   },
   "outputs": [],
   "source": [
    "for i in range(len(ACCA_Firms)):\n",
    "    for j in new_vars:\n",
    "        exec('ACCA_Flat[i].append(%s[i])'%j)    "
   ]
  },
  {
   "cell_type": "code",
   "execution_count": 193,
   "metadata": {
    "collapsed": false
   },
   "outputs": [
    {
     "name": "stdout",
     "output_type": "stream",
     "text": [
      "[['0359578', 'Richardson Watson & Co', 'Crosspoint House', 'First floor', '28 Stafford road', '', '', 'United Kingdom', 'SM6 9AA', '020 8647 1197', 'nigel@rw-co.co.uk', 'http://www.rw-co.co.uk', 1, 1, 1, 1, 1, 1, 1, 1, 1, 1, 1, 1, 1, 1, 0, 1, 0, 1, 0, 1, 0, 0, 0, 0, 1, 0, 1, 0, 0, 0, 1, 0, 0, 1, 0, 0, 1, 0, 0, 1, 1, 0, 0, 0, 0, 0, 0, 0, 0, 0, 0, 0, 0, 0, 0, 0, 0, 0, 0, 0, 0, 1, 0, 1, 0, 0, 0, 1, 1, 1, 1, 0, 1, 0], ['0360950', 'Baptiste & Co', '23 Austin Friars', '', '', '', '', 'United Kingdom', 'EC2N 2QP', '020 36081627', 'baptisteandco@hotmail.com', 'http://www.baptiste-accountants.com', 0, 0, 0, 0, 0, 0, 0, 0, 0, 0, 0, 0, 0, 0, 0, 0, 0, 0, 0, 0, 0, 0, 0, 0, 0, 0, 0, 0, 0, 0, 0, 0, 0, 0, 0, 0, 1, 0, 0, 0, 0, 0, 0, 0, 0, 0, 0, 0, 0, 0, 0, 0, 0, 0, 0, 0, 0, 0, 0, 0, 0, 0, 0, 0, 0, 0, 0, 1, 1, 0, 0, 1, 1, 0], ['0361133', 'CG LEE Limited', 'Ingram House', 'Meridian Way', '', '', '', 'United Kingdom', 'NR7 0TA', '01603 307900', 'mail@leesaccountants.co.uk', 'http://www.leesaccountants.co.uk', 1, 1, 1, 1, 1, 1, 0, 1, 1, 1, 1, 1, 0, 1, 0, 0, 0, 0, 1, 0, 0, 0, 1, 0, 1, 0, 0, 0, 0, 0, 0, 0, 0, 1, 0, 0, 0, 0, 0, 0, 0, 0, 0, 0, 0, 0, 0, 0, 0, 0, 0, 0, 0, 0, 0, 0, 0, 0, 0, 0, 0, 0, 0, 0, 0, 0, 0, 1, 1, 1, 1, 1, 0, 0], ['0361520', 'Haslers', 'Old Station Road', '', '', '', '', 'United Kingdom', 'IG10 4PL', '020 8418 3333', 'michael.watts@haslers.com', 'http://www.haslers.com', 1, 1, 1, 1, 1, 1, 1, 1, 1, 1, 0, 0, 0, 1, 0, 0, 1, 0, 0, 1, 0, 0, 0, 0, 0, 1, 0, 0, 1, 1, 0, 0, 0, 0, 0, 0, 0, 0, 1, 0, 0, 0, 0, 0, 0, 0, 0, 1, 0, 0, 0, 0, 0, 0, 0, 0, 0, 0, 0, 0, 0, 0, 0, 0, 0, 0, 0, 1, 1, 1, 1, 0, 0, 0]]\n"
     ]
    }
   ],
   "source": [
    "print(ACCA_Flat[0:4])"
   ]
  },
  {
   "cell_type": "code",
   "execution_count": 196,
   "metadata": {
    "collapsed": false
   },
   "outputs": [],
   "source": [
    "Header_list = ['Member Number','Name','Address Line 1','Address Line 2','Address Line 3','Address Line 4','Address Line 5','Address Line 6','Address Line 7','Postcode','Telephone','Email Address','Website']\n",
    "\n",
    "for i in new_vars:\n",
    "    Header_list.append(i)"
   ]
  },
  {
   "cell_type": "code",
   "execution_count": 203,
   "metadata": {
    "collapsed": false
   },
   "outputs": [],
   "source": [
    "f = open('/home/de-admin/Documents/Webscraping/ACCA_Final_Data.txt', 'w')\n",
    "\n",
    "for i in range(len(Header_list)):\n",
    "    if i != len(Header_list)-1:\n",
    "        f.write(str(Header_list[i])+',')\n",
    "    else:\n",
    "        f.write(str(Header_list[i]))\n",
    "f.write(\"\\n\")\n",
    "\n",
    "for firm in ACCA_Flat:\n",
    "    \n",
    "    for i in range(len(firm)):\n",
    "        if i != len(firm)-1:\n",
    "            f.write(str(firm[i])+',')\n",
    "        else:\n",
    "            f.write(str(firm[i]))      \n",
    "    f.write(\"\\n\")\n",
    "\n",
    "f.close()"
   ]
  },
  {
   "cell_type": "code",
   "execution_count": null,
   "metadata": {
    "collapsed": true
   },
   "outputs": [],
   "source": []
  }
 ],
 "metadata": {
  "anaconda-cloud": {},
  "kernelspec": {
   "display_name": "Python [default]",
   "language": "python",
   "name": "python2"
  },
  "language_info": {
   "codemirror_mode": {
    "name": "ipython",
    "version": 2
   },
   "file_extension": ".py",
   "mimetype": "text/x-python",
   "name": "python",
   "nbconvert_exporter": "python",
   "pygments_lexer": "ipython2",
   "version": "2.7.12"
  }
 },
 "nbformat": 4,
 "nbformat_minor": 1
}
