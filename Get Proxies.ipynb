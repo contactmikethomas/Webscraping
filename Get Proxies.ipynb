{
 "cells": [
  {
   "cell_type": "code",
   "execution_count": 1,
   "metadata": {
    "collapsed": true
   },
   "outputs": [],
   "source": [
    "import scrapy\n",
    "from scrapy.crawler import CrawlerProcess"
   ]
  },
  {
   "cell_type": "code",
   "execution_count": 2,
   "metadata": {
    "collapsed": false
   },
   "outputs": [],
   "source": [
    "class MySpider(scrapy.Spider):\n",
    "    name = \"Peoxies\"\n",
    "    \n",
    "    def start_requests(self):\n",
    "        yield scrapy.Request(url=\"https://free-proxy-list.net/uk-proxy.html\", callback=self.parse)\n",
    "            \n",
    "    def parse(self, response):\n",
    "        IP = response.xpath('//tbody//tr//td[1]//text()').extract()\n",
    "        host = response.xpath('//tbody//tr//td[2]//text()').extract()\n",
    "        anon = response.xpath('//tbody//tr//td[5]//text()').extract()\n",
    "        \n",
    "        for i in range(len(IP)):\n",
    "            all_proxies.append([IP[i].encode('ascii','replace'),host[i].encode('ascii','replace'),anon[i].encode('ascii','replace')])"
   ]
  },
  {
   "cell_type": "code",
   "execution_count": 3,
   "metadata": {
    "collapsed": false
   },
   "outputs": [
    {
     "name": "stderr",
     "output_type": "stream",
     "text": [
      "2017-09-29 00:41:50 [scrapy.utils.log] INFO: Scrapy 1.3.3 started (bot: scrapybot)\n",
      "2017-09-29 00:41:50 [scrapy.utils.log] INFO: Overridden settings: {}\n",
      "2017-09-29 00:41:50 [scrapy.middleware] INFO: Enabled extensions:\n",
      "['scrapy.extensions.logstats.LogStats',\n",
      " 'scrapy.extensions.telnet.TelnetConsole',\n",
      " 'scrapy.extensions.corestats.CoreStats']\n",
      "2017-09-29 00:41:50 [scrapy.middleware] INFO: Enabled downloader middlewares:\n",
      "['scrapy.downloadermiddlewares.httpauth.HttpAuthMiddleware',\n",
      " 'scrapy.downloadermiddlewares.downloadtimeout.DownloadTimeoutMiddleware',\n",
      " 'scrapy.downloadermiddlewares.defaultheaders.DefaultHeadersMiddleware',\n",
      " 'scrapy.downloadermiddlewares.useragent.UserAgentMiddleware',\n",
      " 'scrapy.downloadermiddlewares.retry.RetryMiddleware',\n",
      " 'scrapy.downloadermiddlewares.redirect.MetaRefreshMiddleware',\n",
      " 'scrapy.downloadermiddlewares.httpcompression.HttpCompressionMiddleware',\n",
      " 'scrapy.downloadermiddlewares.redirect.RedirectMiddleware',\n",
      " 'scrapy.downloadermiddlewares.cookies.CookiesMiddleware',\n",
      " 'scrapy.downloadermiddlewares.stats.DownloaderStats']\n",
      "2017-09-29 00:41:50 [scrapy.middleware] INFO: Enabled spider middlewares:\n",
      "['scrapy.spidermiddlewares.httperror.HttpErrorMiddleware',\n",
      " 'scrapy.spidermiddlewares.offsite.OffsiteMiddleware',\n",
      " 'scrapy.spidermiddlewares.referer.RefererMiddleware',\n",
      " 'scrapy.spidermiddlewares.urllength.UrlLengthMiddleware',\n",
      " 'scrapy.spidermiddlewares.depth.DepthMiddleware']\n",
      "2017-09-29 00:41:50 [scrapy.middleware] INFO: Enabled item pipelines:\n",
      "[]\n",
      "2017-09-29 00:41:50 [scrapy.core.engine] INFO: Spider opened\n",
      "2017-09-29 00:41:50 [scrapy.extensions.logstats] INFO: Crawled 0 pages (at 0 pages/min), scraped 0 items (at 0 items/min)\n",
      "2017-09-29 00:41:50 [scrapy.extensions.telnet] DEBUG: Telnet console listening on 127.0.0.1:6024\n",
      "2017-09-29 00:41:51 [scrapy.core.engine] DEBUG: Crawled (200) <GET https://free-proxy-list.net/uk-proxy.html> (referer: None)\n",
      "2017-09-29 00:41:51 [scrapy.core.engine] INFO: Closing spider (finished)\n",
      "2017-09-29 00:41:51 [scrapy.statscollectors] INFO: Dumping Scrapy stats:\n",
      "{'downloader/request_bytes': 230,\n",
      " 'downloader/request_count': 1,\n",
      " 'downloader/request_method_count/GET': 1,\n",
      " 'downloader/response_bytes': 8703,\n",
      " 'downloader/response_count': 1,\n",
      " 'downloader/response_status_count/200': 1,\n",
      " 'finish_reason': 'finished',\n",
      " 'finish_time': datetime.datetime(2017, 9, 28, 23, 41, 51, 424135),\n",
      " 'log_count/DEBUG': 2,\n",
      " 'log_count/INFO': 7,\n",
      " 'response_received_count': 1,\n",
      " 'scheduler/dequeued': 1,\n",
      " 'scheduler/dequeued/memory': 1,\n",
      " 'scheduler/enqueued': 1,\n",
      " 'scheduler/enqueued/memory': 1,\n",
      " 'start_time': datetime.datetime(2017, 9, 28, 23, 41, 50, 850371)}\n",
      "2017-09-29 00:41:51 [scrapy.core.engine] INFO: Spider closed (finished)\n"
     ]
    }
   ],
   "source": [
    "all_proxies = []\n",
    "\n",
    "process = CrawlerProcess()\n",
    "process.crawl(MySpider)\n",
    "process.start()"
   ]
  },
  {
   "cell_type": "code",
   "execution_count": 4,
   "metadata": {
    "collapsed": false
   },
   "outputs": [
    {
     "name": "stdout",
     "output_type": "stream",
     "text": [
      "[['45.76.141.168', '3128', 'anonymous'], ['104.238.171.148', '3128', 'anonymous'], ['45.63.100.190', '3128', 'anonymous'], ['45.77.58.94', '3128', 'anonymous'], ['45.32.183.221', '3128', 'anonymous'], ['45.77.88.119', '3128', 'anonymous'], ['45.77.59.130', '3128', 'anonymous'], ['45.77.91.69', '3128', 'anonymous'], ['139.59.175.193', '8118', 'elite proxy'], ['46.101.72.25', '8118', 'elite proxy'], ['139.59.168.32', '8118', 'elite proxy'], ['46.101.61.204', '8118', 'elite proxy'], ['139.59.162.156', '8118', 'elite proxy'], ['139.59.175.233', '8118', 'elite proxy'], ['46.101.90.104', '8118', 'elite proxy'], ['46.101.63.66', '8118', 'elite proxy'], ['185.71.139.226', '3128', 'elite proxy'], ['35.176.25.21', '8080', 'anonymous'], ['139.59.176.46', '8118', 'elite proxy'], ['46.101.51.214', '8118', 'elite proxy'], ['46.101.38.246', '8118', 'elite proxy'], ['46.101.73.138', '8118', 'elite proxy'], ['139.59.169.182', '8118', 'elite proxy'], ['178.62.16.192', '8118', 'elite proxy'], ['46.101.79.79', '8118', 'elite proxy'], ['46.101.63.28', '8118', 'elite proxy'], ['188.166.144.126', '8118', 'anonymous'], ['178.62.117.128', '8118', 'elite proxy'], ['46.101.89.77', '8118', 'anonymous'], ['46.101.46.237', '8118', 'anonymous'], ['46.101.23.167', '8118', 'elite proxy'], ['46.101.44.44', '8118', 'transparent'], ['139.59.161.103', '8118', 'elite proxy'], ['46.101.95.1', '8118', 'anonymous'], ['46.101.51.238', '8118', 'elite proxy'], ['139.59.162.250', '8118', 'elite proxy'], ['92.27.91.253', '53281', 'transparent'], ['46.101.2.115', '8118', 'transparent'], ['46.101.76.125', '8118', 'elite proxy'], ['46.101.76.243', '8118', 'elite proxy'], ['46.101.75.147', '8118', 'elite proxy'], ['46.101.76.40', '8118', 'elite proxy'], ['46.101.72.191', '8118', 'elite proxy'], ['5.148.140.23', '3128', 'anonymous'], ['46.101.47.118', '8118', 'elite proxy'], ['139.59.162.88', '8118', 'elite proxy'], ['46.101.77.190', '8118', 'elite proxy'], ['46.101.75.190', '8118', 'elite proxy'], ['139.59.165.68', '8118', 'elite proxy'], ['46.101.59.22', '8118', 'elite proxy'], ['188.166.144.79', '8118', 'elite proxy'], ['46.101.72.30', '8118', 'elite proxy'], ['46.101.72.20', '8118', 'elite proxy'], ['46.101.86.183', '80', 'anonymous'], ['46.101.27.218', '8118', 'anonymous'], ['46.101.77.223', '8118', 'elite proxy'], ['88.211.126.138', '8080', 'transparent'], ['46.101.11.131', '3128', 'anonymous'], ['178.62.15.246', '8118', 'elite proxy'], ['46.101.89.168', '8118', 'elite proxy'], ['212.161.91.178', '65103', 'transparent'], ['46.101.52.98', '8118', 'elite proxy'], ['46.101.76.228', '8118', 'anonymous'], ['46.101.37.196', '8118', 'transparent'], ['178.62.46.163', '8118', 'elite proxy'], ['139.59.187.1', '8118', 'elite proxy'], ['139.59.162.53', '8118', 'elite proxy'], ['81.111.70.171', '80', 'elite proxy'], ['86.158.47.206', '8080', 'transparent'], ['213.5.176.84', '8080', 'transparent'], ['82.206.182.43', '80', 'transparent'], ['46.101.87.205', '8118', 'elite proxy'], ['46.101.73.156', '8118', 'transparent'], ['46.101.78.122', '8118', 'elite proxy'], ['139.59.165.0', '8118', 'elite proxy'], ['178.62.93.62', '8118', 'anonymous'], ['134.213.208.187', '4444', 'transparent'], ['178.62.28.110', '8118', 'elite proxy'], ['46.101.56.126', '8118', 'elite proxy'], ['46.101.79.191', '8118', 'transparent'], ['2.31.188.16', '8080', 'transparent'], ['217.35.255.54', '8080', 'transparent'], ['85.211.18.131', '8080', 'transparent'], ['95.145.184.196', '8080', 'transparent'], ['46.101.37.97', '8118', 'elite proxy'], ['46.101.16.124', '8118', 'elite proxy'], ['139.59.170.92', '8118', 'elite proxy'], ['46.101.74.112', '8118', 'elite proxy'], ['178.62.18.89', '8118', 'elite proxy'], ['46.101.78.149', '8118', 'transparent'], ['178.62.49.23', '8118', 'transparent'], ['46.101.57.80', '8118', 'elite proxy'], ['139.59.169.49', '8118', 'elite proxy'], ['139.59.165.66', '8118', 'transparent'], ['139.59.160.94', '8118', 'elite proxy'], ['139.59.169.218', '8118', 'transparent'], ['46.101.75.192', '8118', 'anonymous'], ['178.62.38.197', '8118', 'elite proxy'], ['46.101.76.60', '8118', 'transparent'], ['188.166.154.140', '8118', 'transparent']]\n"
     ]
    }
   ],
   "source": [
    "print(all_proxies)"
   ]
  },
  {
   "cell_type": "code",
   "execution_count": 7,
   "metadata": {
    "collapsed": false
   },
   "outputs": [
    {
     "name": "stdout",
     "output_type": "stream",
     "text": [
      "['http://104.238.171.148:3128', 'http://139.59.160.94:8118']\n"
     ]
    }
   ],
   "source": [
    "safe_proxies = []\n",
    "\n",
    "for i in all_proxies:\n",
    "    if i[2] != \"transparent\":\n",
    "        safe_proxies.append(\"http://\"+str(i[0])+\":\"+str(i[1]))\n",
    "\n",
    "safe_proxies.sort()\n",
    "        \n",
    "print(safe_proxies[0:2])"
   ]
  },
  {
   "cell_type": "code",
   "execution_count": 8,
   "metadata": {
    "collapsed": true
   },
   "outputs": [],
   "source": [
    "f = open('/home/de-admin/Documents/Webscraping/proxy_list.txt', 'w')\n",
    "\n",
    "for prx in safe_proxies:\n",
    "    f.write(prx+'\\n')\n",
    "\n",
    "f.close()"
   ]
  },
  {
   "cell_type": "code",
   "execution_count": null,
   "metadata": {
    "collapsed": true
   },
   "outputs": [],
   "source": []
  }
 ],
 "metadata": {
  "kernelspec": {
   "display_name": "Python [default]",
   "language": "python",
   "name": "python2"
  },
  "language_info": {
   "codemirror_mode": {
    "name": "ipython",
    "version": 2
   },
   "file_extension": ".py",
   "mimetype": "text/x-python",
   "name": "python",
   "nbconvert_exporter": "python",
   "pygments_lexer": "ipython2",
   "version": "2.7.12"
  }
 },
 "nbformat": 4,
 "nbformat_minor": 1
}
