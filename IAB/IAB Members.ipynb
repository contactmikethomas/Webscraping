{
 "cells": [
  {
   "cell_type": "code",
   "execution_count": 32,
   "metadata": {
    "collapsed": false
   },
   "outputs": [],
   "source": [
    "import urllib\n",
    "from lxml import html\n",
    "\n",
    "page = html.fromstring(urllib.urlopen(\"/home/de-admin/IAB Final.html\").read())"
   ]
  },
  {
   "cell_type": "code",
   "execution_count": 85,
   "metadata": {
    "collapsed": false
   },
   "outputs": [
    {
     "ename": "SyntaxError",
     "evalue": "invalid syntax (<ipython-input-85-f643f2e42d18>, line 2)",
     "output_type": "error",
     "traceback": [
      "\u001b[0;36m  File \u001b[0;32m\"<ipython-input-85-f643f2e42d18>\"\u001b[0;36m, line \u001b[0;32m2\u001b[0m\n\u001b[0;31m    comp = page.xpath('//table[@class=\"keeptable\"]//tr//td[3]//'):\u001b[0m\n\u001b[0m                                                                 ^\u001b[0m\n\u001b[0;31mSyntaxError\u001b[0m\u001b[0;31m:\u001b[0m invalid syntax\n"
     ]
    }
   ],
   "source": [
    "name = page.xpath('//table[@class=\"keeptable\"]//tr | //table[@class=\"keeptable\"]//tr//td[1]//text()')\n",
    "comp = page.xpath('//table[@class=\"keeptable\"]//tr//td[3]//'):  \n",
    "email = page.xpath('//table[@class=\"keeptable\"]//tr | //table[@class=\"keeptable\"]//a/@data-href')\n",
    "webs = page.xpath('//table[@class=\"keeptable\"]//tr | //table[@class=\"keeptable\"]//a/@href')\n",
    "specs = page.xpath('//table[@class=\"keeptable\"]//tr | //table[@class=\"keeptable\"]//tr//li//text()')"
   ]
  },
  {
   "cell_type": "code",
   "execution_count": 86,
   "metadata": {
    "collapsed": false
   },
   "outputs": [
    {
     "name": "stdout",
     "output_type": "stream",
     "text": [
      "[<Element td at 0x7fa25d803890>, <Element td at 0x7fa25d803ec0>, <Element td at 0x7fa25d803520>, <Element td at 0x7fa25d8035d0>, <Element td at 0x7fa25d803a48>, <Element td at 0x7fa25d803af8>, <Element td at 0x7fa25d803f18>, <Element td at 0x7fa25d803ba8>, <Element td at 0x7fa25d803fc8>, <Element td at 0x7fa25d803260>, <Element td at 0x7fa25d803730>, <Element td at 0x7fa25d803838>, <Element td at 0x7fa25d803d08>, <Element td at 0x7fa25d803e68>, <Element td at 0x7fa25d8030a8>, <Element td at 0x7fa25d803100>, <Element td at 0x7fa25d803208>, <Element td at 0x7fa25d803310>, <Element td at 0x7fa25d803368>, <Element td at 0x7fa25d803418>, <Element td at 0x7fa25d8034c8>, <Element td at 0x7fa25d803578>, <Element td at 0x7fa25d803628>, <Element td at 0x7fa25d803680>, <Element td at 0x7fa25d8036d8>, <Element td at 0x7fa25d8037e0>, <Element td at 0x7fa25d8038e8>, <Element td at 0x7fa25d803940>, <Element td at 0x7fa25d803998>, <Element td at 0x7fa25d8039f0>, <Element td at 0x7fa25d803aa0>, <Element td at 0x7fa25d803b50>, <Element td at 0x7fa25d803c00>, <Element td at 0x7fa25d803c58>, <Element td at 0x7fa25d803cb0>, <Element td at 0x7fa25d803db8>, <Element td at 0x7fa25d803f70>, <Element td at 0x7fa25d80a0a8>, <Element td at 0x7fa25d80a100>, <Element td at 0x7fa25d80a158>, <Element td at 0x7fa25d80a1b0>, <Element td at 0x7fa25d80a208>, <Element td at 0x7fa25d80a2b8>, <Element td at 0x7fa25d80a368>, <Element td at 0x7fa25d80a418>, <Element td at 0x7fa25d80a4c8>, <Element td at 0x7fa25d80a520>, <Element td at 0x7fa25d80a578>, <Element td at 0x7fa25d80a5d0>, <Element td at 0x7fa25d80a628>, <Element td at 0x7fa25d80a6d8>, <Element td at 0x7fa25d80a788>, <Element td at 0x7fa25d80a838>, <Element td at 0x7fa25d80a8e8>, <Element td at 0x7fa25d80a940>, <Element td at 0x7fa25d80a998>, <Element td at 0x7fa25d80a9f0>, <Element td at 0x7fa25d80aa48>, <Element td at 0x7fa25d80aaa0>, <Element td at 0x7fa25d80aaf8>, <Element td at 0x7fa25d80aba8>, <Element td at 0x7fa25d80ac00>, <Element td at 0x7fa25d80ac58>, <Element td at 0x7fa25d80acb0>, <Element td at 0x7fa25d80ad08>, <Element td at 0x7fa25d80adb8>, <Element td at 0x7fa25d80ae68>, <Element td at 0x7fa25d80aec0>, <Element td at 0x7fa25d80af18>, <Element td at 0x7fa25d80af70>, <Element td at 0x7fa25d820c58>, <Element td at 0x7fa25d820730>, <Element td at 0x7fa25d820cb0>, <Element td at 0x7fa25d820050>, <Element td at 0x7fa25d8200a8>, <Element td at 0x7fa25d8201b0>, <Element td at 0x7fa25d8202b8>, <Element td at 0x7fa25d820368>, <Element td at 0x7fa25d820418>, <Element td at 0x7fa25d820470>, <Element td at 0x7fa25d820578>, <Element td at 0x7fa25d820788>, <Element td at 0x7fa25d820890>, <Element td at 0x7fa25d820940>, <Element td at 0x7fa25d8209f0>, <Element td at 0x7fa25d820aa0>, <Element td at 0x7fa25d820b50>, <Element td at 0x7fa25d820ba8>, <Element td at 0x7fa25d820d08>, <Element td at 0x7fa25d820e10>, <Element td at 0x7fa25d820e68>, <Element td at 0x7fa25d820f18>, <Element td at 0x7fa25d820fc8>, <Element td at 0x7fa25d820310>, <Element td at 0x7fa25d8208e8>, <Element td at 0x7fa25d820a48>, <Element td at 0x7fa25d820ec0>, <Element td at 0x7fa25d820100>, <Element td at 0x7fa25d820260>, <Element td at 0x7fa25d820628>, <Element td at 0x7fa25d820680>, <Element td at 0x7fa25d820838>, <Element td at 0x7fa25d820d60>, <Element td at 0x7fa26c047998>, <Element td at 0x7fa26c047050>, <Element td at 0x7fa26c047100>, <Element td at 0x7fa26c0471b0>, <Element td at 0x7fa26c047260>, <Element td at 0x7fa26c0472b8>, <Element td at 0x7fa26c0473c0>, <Element td at 0x7fa26c0474c8>, <Element td at 0x7fa26c047520>, <Element td at 0x7fa26c047578>, <Element td at 0x7fa26c0475d0>, <Element td at 0x7fa26c047680>, <Element td at 0x7fa26c047730>, <Element td at 0x7fa26c0477e0>, <Element td at 0x7fa26c047838>, <Element td at 0x7fa26c047890>, <Element td at 0x7fa26c0479f0>, <Element td at 0x7fa26c047af8>, <Element td at 0x7fa26c047c00>, <Element td at 0x7fa26c047d08>, <Element td at 0x7fa26c047d60>, <Element td at 0x7fa26c047e10>, <Element td at 0x7fa26c047e68>, <Element td at 0x7fa26c047ec0>, <Element td at 0x7fa26c047f18>, <Element td at 0x7fa26c047fc8>, <Element td at 0x7fa26c047158>, <Element td at 0x7fa26c047628>, <Element td at 0x7fa26c047788>, <Element td at 0x7fa26c047f70>, <Element td at 0x7fa26c047418>, <Element td at 0x7fa26c0478e8>, <Element td at 0x7fa26c047aa0>, <Element td at 0x7fa26c047b50>, <Element td at 0x7fa25d603050>, <Element td at 0x7fa25d6030a8>, <Element td at 0x7fa25d603158>, <Element td at 0x7fa25d603208>, <Element td at 0x7fa25d6032b8>, <Element td at 0x7fa25d603368>, <Element td at 0x7fa25d6033c0>, <Element td at 0x7fa25d603418>, <Element td at 0x7fa25d603470>, <Element td at 0x7fa25d603520>, <Element td at 0x7fa25d6035d0>, <Element td at 0x7fa25d603628>, <Element td at 0x7fa25d603680>, <Element td at 0x7fa25d603730>, <Element td at 0x7fa25d6037e0>, <Element td at 0x7fa25d603890>, <Element td at 0x7fa25d6038e8>, <Element td at 0x7fa25d603940>, <Element td at 0x7fa25d603998>, <Element td at 0x7fa25d6039f0>, <Element td at 0x7fa25d603aa0>, <Element td at 0x7fa25d603b50>, <Element td at 0x7fa25d603c00>, <Element td at 0x7fa25d603cb0>, <Element td at 0x7fa25d603d08>, <Element td at 0x7fa25d603d60>, <Element td at 0x7fa25d603db8>, <Element td at 0x7fa25d603e68>, <Element td at 0x7fa25d603ec0>, <Element td at 0x7fa25d603f18>, <Element td at 0x7fa25d603f70>, <Element td at 0x7fa25d5d6050>, <Element td at 0x7fa25d5d60a8>, <Element td at 0x7fa25d5d6100>, <Element td at 0x7fa25d5d6158>, <Element td at 0x7fa25d5d61b0>, <Element td at 0x7fa25d5d6260>, <Element td at 0x7fa25d5d62b8>, <Element td at 0x7fa25d5d6310>, <Element td at 0x7fa25d5d63c0>, <Element td at 0x7fa25d5d6470>, <Element td at 0x7fa25d5d6520>, <Element td at 0x7fa25d5d65d0>, <Element td at 0x7fa25d5d6628>, <Element td at 0x7fa25d5d6680>, <Element td at 0x7fa25d5d66d8>, <Element td at 0x7fa25d5d6788>, <Element td at 0x7fa25d5d6838>, <Element td at 0x7fa25d5d68e8>, <Element td at 0x7fa25d5d6940>, <Element td at 0x7fa25d5d6998>, <Element td at 0x7fa25d5d69f0>, <Element td at 0x7fa25d5d6a48>, <Element td at 0x7fa25d5d6af8>, <Element td at 0x7fa25d5d6ba8>, <Element td at 0x7fa25d5d6c00>, <Element td at 0x7fa25d5d6c58>, <Element td at 0x7fa25d5d6cb0>, <Element td at 0x7fa25d5d6d08>, <Element td at 0x7fa25d5d6db8>, <Element td at 0x7fa25d5d6e68>, <Element td at 0x7fa25d5d6ec0>, <Element td at 0x7fa25d5d6f18>, <Element td at 0x7fa25d5d6f70>, <Element td at 0x7fa25d5d6fc8>, <Element td at 0x7fa25d7e7418>, <Element td at 0x7fa25d7e7940>, <Element td at 0x7fa25d7e7e10>, <Element td at 0x7fa25d7e7310>, <Element td at 0x7fa25d7e74c8>, <Element td at 0x7fa25d7e76d8>, <Element td at 0x7fa25d7e7998>, <Element td at 0x7fa25d7e78e8>, <Element td at 0x7fa25d7e7a48>, <Element td at 0x7fa25d7e7050>, <Element td at 0x7fa25d7e7100>, <Element td at 0x7fa25d7e7158>, <Element td at 0x7fa25d7e71b0>, <Element td at 0x7fa25d7e72b8>, <Element td at 0x7fa25d7e7470>, <Element td at 0x7fa25d7e7578>, <Element td at 0x7fa25d7e7680>, <Element td at 0x7fa25d7e7788>, <Element td at 0x7fa25d7e7838>, <Element td at 0x7fa25d7e7890>, <Element td at 0x7fa25d7e79f0>, <Element td at 0x7fa25d7e7af8>, <Element td at 0x7fa25d7e7b50>, <Element td at 0x7fa25d7e7c00>, <Element td at 0x7fa25d7e7c58>, <Element td at 0x7fa25d7e7cb0>, <Element td at 0x7fa25d7e7d08>, <Element td at 0x7fa25d7e7db8>, <Element td at 0x7fa25d7e7e68>, <Element td at 0x7fa25d7e7f18>, <Element td at 0x7fa25d7e7fc8>, <Element td at 0x7fa25d655ec0>, <Element td at 0x7fa25d655c58>, <Element td at 0x7fa25d655260>, <Element td at 0x7fa25d655fc8>, <Element td at 0x7fa25d655050>, <Element td at 0x7fa25d6553c0>, <Element td at 0x7fa25d6555d0>, <Element td at 0x7fa25d6557e0>, <Element td at 0x7fa25d6558e8>, <Element td at 0x7fa25d655cb0>, <Element td at 0x7fa25d655f18>, <Element td at 0x7fa25d655310>, <Element td at 0x7fa25d655838>, <Element td at 0x7fa25d655d08>, <Element td at 0x7fa25d655208>, <Element td at 0x7fa25d655470>, <Element td at 0x7fa25d655578>, <Element td at 0x7fa25d655af8>, <Element td at 0x7fa25d655e68>, <Element td at 0x7fa25d5dc050>, <Element td at 0x7fa25d5dc0a8>, <Element td at 0x7fa25d5dc158>, <Element td at 0x7fa25d5dc208>, <Element td at 0x7fa25d5dc2b8>, <Element td at 0x7fa25d5dc368>, <Element td at 0x7fa25d5dc3c0>, <Element td at 0x7fa25d5dc418>, <Element td at 0x7fa25d5dc470>, <Element td at 0x7fa25d5dc4c8>, <Element td at 0x7fa25d5dc520>, <Element td at 0x7fa25d5dc5d0>, <Element td at 0x7fa25d5dc680>, <Element td at 0x7fa25d5dc730>, <Element td at 0x7fa25d5dc788>, <Element td at 0x7fa25d5dc7e0>, <Element td at 0x7fa25d5dc838>, <Element td at 0x7fa25d5dc8e8>, <Element td at 0x7fa25d5dc940>, <Element td at 0x7fa25d5dc998>, <Element td at 0x7fa25d5dca48>, <Element td at 0x7fa25d5dcaa0>, <Element td at 0x7fa25d5dcaf8>, <Element td at 0x7fa25d5dcb50>, <Element td at 0x7fa25d5dcba8>, <Element td at 0x7fa25d5dcc00>, <Element td at 0x7fa25d5dccb0>, <Element td at 0x7fa25d5dcd60>, <Element td at 0x7fa25d5dcdb8>, <Element td at 0x7fa25d5dce10>, <Element td at 0x7fa25d5dce68>, <Element td at 0x7fa25d5dcec0>, <Element td at 0x7fa25d5dcf18>, <Element td at 0x7fa25d5dcfc8>, <Element td at 0x7fa26c04c730>, <Element td at 0x7fa26c04c3c0>, <Element td at 0x7fa26c04c0a8>, <Element td at 0x7fa26c04c158>, <Element td at 0x7fa26c04c208>, <Element td at 0x7fa26c04c260>, <Element td at 0x7fa26c04c2b8>, <Element td at 0x7fa26c04c418>, <Element td at 0x7fa26c04c520>, <Element td at 0x7fa26c04c5d0>, <Element td at 0x7fa26c04c628>, <Element td at 0x7fa26c04c680>, <Element td at 0x7fa26c04c7e0>, <Element td at 0x7fa26c04c8e8>, <Element td at 0x7fa26c04c940>, <Element td at 0x7fa26c04c998>, <Element td at 0x7fa26c04c9f0>, <Element td at 0x7fa26c04caa0>, <Element td at 0x7fa26c04cb50>, <Element td at 0x7fa26c04cba8>, <Element td at 0x7fa26c04cc00>, <Element td at 0x7fa26c04cd08>, <Element td at 0x7fa26c04ce10>, <Element td at 0x7fa26c04cec0>, <Element td at 0x7fa26c04cf70>, <Element td at 0x7fa26c04cfc8>, <Element td at 0x7fa26c04c050>, <Element td at 0x7fa26c04c1b0>, <Element td at 0x7fa26c04ca48>, <Element td at 0x7fa26c04caf8>, <Element td at 0x7fa26c04c310>, <Element td at 0x7fa26c04c4c8>, <Element td at 0x7fa26c04c838>, <Element td at 0x7fa26c04cc58>, <Element td at 0x7fa26c04cdb8>, <Element td at 0x7fa25d5e40a8>, <Element td at 0x7fa25d5e4158>, <Element td at 0x7fa25d5e4208>, <Element td at 0x7fa25d5e4260>, <Element td at 0x7fa25d5e42b8>, <Element td at 0x7fa25d5e4310>, <Element td at 0x7fa25d5e43c0>, <Element td at 0x7fa25d5e4418>, <Element td at 0x7fa25d5e4470>, <Element td at 0x7fa25d5e4520>, <Element td at 0x7fa25d5e45d0>, <Element td at 0x7fa25d5e4680>, <Element td at 0x7fa25d5e46d8>, <Element td at 0x7fa25d5e4730>, <Element td at 0x7fa25d5e4788>, <Element td at 0x7fa25d5e4838>, <Element td at 0x7fa25d5e48e8>, <Element td at 0x7fa25d5e4998>, <Element td at 0x7fa25d5e4a48>, <Element td at 0x7fa25d5e4aa0>, <Element td at 0x7fa25d5e4af8>, <Element td at 0x7fa25d5e4b50>, <Element td at 0x7fa25d5e4ba8>, <Element td at 0x7fa25d5e4c58>, <Element td at 0x7fa25d5e4d08>, <Element td at 0x7fa25d5e4d60>, <Element td at 0x7fa25d5e4e10>, <Element td at 0x7fa25d5e4ec0>, <Element td at 0x7fa25d5e4f70>, <Element td at 0x7fa25d5e4fc8>, <Element td at 0x7fa25d7ec1b0>, <Element td at 0x7fa25d7ecec0>, <Element td at 0x7fa25d7ec158>, <Element td at 0x7fa25d7ec7e0>, <Element td at 0x7fa25d7ece68>, <Element td at 0x7fa25d7ec418>, <Element td at 0x7fa25d7ec4c8>, <Element td at 0x7fa25d7ec578>, <Element td at 0x7fa25d7ec628>, <Element td at 0x7fa25d7ecb50>, <Element td at 0x7fa25d7ecc00>, <Element td at 0x7fa25d7eccb0>, <Element td at 0x7fa25d7ec100>, <Element td at 0x7fa25d7ec260>, <Element td at 0x7fa25d7ec2b8>, <Element td at 0x7fa25d7ec890>, <Element td at 0x7fa25d7ece10>, <Element td at 0x7fa25d7ecfc8>, <Element td at 0x7fa25d7ec050>, <Element td at 0x7fa25d7ec0a8>, <Element td at 0x7fa25d7ec208>, <Element td at 0x7fa25d7ec310>, <Element td at 0x7fa25d7ec368>, <Element td at 0x7fa25d7ec3c0>, <Element td at 0x7fa25d7ec470>, <Element td at 0x7fa25d7ec520>, <Element td at 0x7fa25d7ec5d0>, <Element td at 0x7fa25d7ec680>, <Element td at 0x7fa25d7ec6d8>, <Element td at 0x7fa25d7ec730>, <Element td at 0x7fa25d7ec838>, <Element td at 0x7fa25d7ec940>, <Element td at 0x7fa25d7ec9f0>, <Element td at 0x7fa25d7eca48>, <Element td at 0x7fa25d7ecaa0>, <Element td at 0x7fa25d7ecaf8>, <Element td at 0x7fa25d7ecba8>, <Element td at 0x7fa25d7ecc58>, <Element td at 0x7fa25d7ecd08>, <Element td at 0x7fa25d7ecd60>, <Element td at 0x7fa25d7ecdb8>, <Element td at 0x7fa25d7ecf18>, <Element td at 0x7fa25d5e7050>, <Element td at 0x7fa25d5e70a8>, <Element td at 0x7fa25d5e7158>, <Element td at 0x7fa25d5e71b0>, <Element td at 0x7fa25d5e7260>, <Element td at 0x7fa25d5e7310>, <Element td at 0x7fa25d5e7368>, <Element td at 0x7fa25d5e73c0>, <Element td at 0x7fa25d5e7418>, <Element td at 0x7fa25d5e74c8>, <Element td at 0x7fa25d5e7520>, <Element td at 0x7fa25d5e7578>, <Element td at 0x7fa25d5e75d0>, <Element td at 0x7fa25d5e7680>, <Element td at 0x7fa25d5e7730>, <Element td at 0x7fa25d5e7788>, <Element td at 0x7fa25d5e77e0>, <Element td at 0x7fa25d5e7838>, <Element td at 0x7fa25d5e7890>, <Element td at 0x7fa25d5e78e8>, <Element td at 0x7fa25d5e7940>, <Element td at 0x7fa25d5e7998>, <Element td at 0x7fa25d5e79f0>, <Element td at 0x7fa25d5e7a48>, <Element td at 0x7fa25d5e7aa0>, <Element td at 0x7fa25d5e7b50>, <Element td at 0x7fa25d5e7c00>, <Element td at 0x7fa25d5e7cb0>, <Element td at 0x7fa25d5e7d08>, <Element td at 0x7fa25d5e7d60>, <Element td at 0x7fa25d5e7db8>, <Element td at 0x7fa25d5e7e68>, <Element td at 0x7fa25d5e7f18>, <Element td at 0x7fa25d5e7f70>, <Element td at 0x7fa25d5e7fc8>, <Element td at 0x7fa25d5d9310>, <Element td at 0x7fa25d5d9db8>, <Element td at 0x7fa25d5d9628>, <Element td at 0x7fa25d5d9c00>, <Element td at 0x7fa25d5d90a8>, <Element td at 0x7fa25d5d9368>, <Element td at 0x7fa25d5d94c8>, <Element td at 0x7fa25d5d95d0>, <Element td at 0x7fa25d5d9730>, <Element td at 0x7fa25d5d9c58>, <Element td at 0x7fa25d5d9e10>, <Element td at 0x7fa25d5d9578>, <Element td at 0x7fa25d5d96d8>, <Element td at 0x7fa25d5d9b50>, <Element td at 0x7fa25d5d9050>, <Element td at 0x7fa25d5d93c0>, <Element td at 0x7fa25d5d98e8>, <Element td at 0x7fa25d5d9a48>, <Element td at 0x7fa25d5d9ec0>, <Element td at 0x7fa25d7f2260>, <Element td at 0x7fa25d7f2b50>, <Element td at 0x7fa25d7f20a8>, <Element td at 0x7fa25d7f2158>, <Element td at 0x7fa25d7f2520>, <Element td at 0x7fa25d7f25d0>, <Element td at 0x7fa25d7f2680>, <Element td at 0x7fa25d7f2730>, <Element td at 0x7fa25d7f2208>, <Element td at 0x7fa25d7f2368>, <Element td at 0x7fa25d7f2998>, <Element td at 0x7fa25d7f29f0>, <Element td at 0x7fa25d7f2af8>, <Element td at 0x7fa25d7f2c58>, <Element td at 0x7fa25d7f2cb0>, <Element td at 0x7fa25d7f2d08>, <Element td at 0x7fa25d7f2e68>, <Element td at 0x7fa25d7f2050>, <Element td at 0x7fa25d7f2100>, <Element td at 0x7fa25d7f21b0>, <Element td at 0x7fa25d7f22b8>, <Element td at 0x7fa25d7f23c0>, <Element td at 0x7fa25d7f2418>, <Element td at 0x7fa25d7f2470>, <Element td at 0x7fa25d7f24c8>, <Element td at 0x7fa25d7f2578>, <Element td at 0x7fa25d7f2628>, <Element td at 0x7fa25d7f26d8>, <Element td at 0x7fa25d7f2788>, <Element td at 0x7fa25d7f27e0>, <Element td at 0x7fa25d7f2838>, <Element td at 0x7fa25d7f2940>, <Element td at 0x7fa25d7f2a48>, <Element td at 0x7fa25d7f2aa0>, <Element td at 0x7fa25d7f2c00>, <Element td at 0x7fa25d7f2db8>, <Element td at 0x7fa25d7f2ec0>, <Element td at 0x7fa25d7f2f18>, <Element td at 0x7fa25d7f2fc8>, <Element td at 0x7fa25d5ed050>, <Element td at 0x7fa25d5ed0a8>, <Element td at 0x7fa25d5ed158>, <Element td at 0x7fa25d5ed208>, <Element td at 0x7fa25d5ed260>, <Element td at 0x7fa25d5ed2b8>, <Element td at 0x7fa25d5ed310>, <Element td at 0x7fa25d5ed368>, <Element td at 0x7fa25d5ed418>, <Element td at 0x7fa25d5ed470>, <Element td at 0x7fa25d5ed4c8>, <Element td at 0x7fa25d5ed520>, <Element td at 0x7fa25d5ed5d0>, <Element td at 0x7fa25d5ed680>, <Element td at 0x7fa25d5ed730>, <Element td at 0x7fa25d5ed7e0>, <Element td at 0x7fa25d5ed838>, <Element td at 0x7fa25d84d100>, <Element td at 0x7fa25d84d3c0>, <Element td at 0x7fa25d84d368>, <Element td at 0x7fa25d84d470>, <Element td at 0x7fa25d84d5d0>, <Element td at 0x7fa25d84d0a8>, <Element td at 0x7fa25d84d418>, <Element td at 0x7fa25d84d890>, <Element td at 0x7fa25d84d8e8>, <Element td at 0x7fa25d84d998>, <Element td at 0x7fa25d84d9f0>, <Element td at 0x7fa25d84da48>, <Element td at 0x7fa25d84daa0>, <Element td at 0x7fa25d84db50>, <Element td at 0x7fa25d84dc00>, <Element td at 0x7fa25d84dcb0>, <Element td at 0x7fa25d84dd60>, <Element td at 0x7fa25d84ddb8>, <Element td at 0x7fa25d84de10>, <Element td at 0x7fa25d84df70>, <Element td at 0x7fa25d3d7730>, <Element td at 0x7fa25d3d76d8>, <Element td at 0x7fa25d3d7d08>]\n"
     ]
    }
   ],
   "source": [
    "print(comp)"
   ]
  },
  {
   "cell_type": "code",
   "execution_count": null,
   "metadata": {
    "collapsed": true
   },
   "outputs": [],
   "source": []
  },
  {
   "cell_type": "code",
   "execution_count": null,
   "metadata": {
    "collapsed": true
   },
   "outputs": [],
   "source": []
  }
 ],
 "metadata": {
  "anaconda-cloud": {},
  "kernelspec": {
   "display_name": "Python [default]",
   "language": "python",
   "name": "python2"
  },
  "language_info": {
   "codemirror_mode": {
    "name": "ipython",
    "version": 2
   },
   "file_extension": ".py",
   "mimetype": "text/x-python",
   "name": "python",
   "nbconvert_exporter": "python",
   "pygments_lexer": "ipython2",
   "version": "2.7.12"
  }
 },
 "nbformat": 4,
 "nbformat_minor": 1
}
